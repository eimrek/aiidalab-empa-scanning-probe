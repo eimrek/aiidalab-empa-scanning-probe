{
 "cells": [
  {
   "cell_type": "code",
   "execution_count": 2,
   "metadata": {},
   "outputs": [
    {
     "data": {
      "application/json": {
       "current_state": "Loaded AiiDA DB environment."
      },
      "text/html": [
       "<p>Loaded AiiDA DB environment.</p>"
      ],
      "text/latex": [
       "Loaded AiiDA DB environment.\n"
      ],
      "text/plain": [
       "Loaded AiiDA DB environment.\n"
      ]
     },
     "execution_count": 2,
     "metadata": {},
     "output_type": "execute_result"
    }
   ],
   "source": [
    "%aiida"
   ]
  },
  {
   "cell_type": "code",
   "execution_count": 3,
   "metadata": {},
   "outputs": [
    {
     "data": {
      "application/vnd.jupyter.widget-view+json": {
       "model_id": "2b479e68f660465f87bcae9c900ee12b",
       "version_major": 2,
       "version_minor": 0
      },
      "text/plain": [
       "_ColormakerRegistry()"
      ]
     },
     "metadata": {},
     "output_type": "display_data"
    }
   ],
   "source": [
    "\n",
    "from aiida_cp2k.calculations import Cp2kCalculation\n",
    "\n",
    "from aiida.orm import Code, Computer\n",
    "from aiida.orm.querybuilder import QueryBuilder\n",
    "from aiida.engine import submit, run, run_get_node\n",
    "\n",
    "import ase\n",
    "import ase.io\n",
    "import numpy as np\n",
    "import nglview\n",
    "from copy import deepcopy\n",
    "from pprint import pprint\n",
    "\n",
    "import ipywidgets as ipw\n",
    "from IPython.display import display, clear_output, HTML\n",
    "\n",
    "from apps.scanning_probe.orb.orb_workchain import OrbitalWorkChain\n",
    "\n",
    "from apps.scanning_probe import common\n",
    "\n",
    "from apps.scanning_probe.viewer_details import ViewerDetails\n",
    "\n",
    "from aiidalab_widgets_base import CodeDropdown, SubmitButtonWidget, StructureBrowserWidget\n",
    "from aiidalab_widgets_base import ComputerDropdown\n",
    "from apps.scanning_probe.metadata_widget import MetadataWidget"
   ]
  },
  {
   "cell_type": "markdown",
   "metadata": {},
   "source": [
    "# Select structure"
   ]
  },
  {
   "cell_type": "code",
   "execution_count": 4,
   "metadata": {
    "scrolled": false
   },
   "outputs": [
    {
     "data": {
      "application/vnd.jupyter.widget-view+json": {
       "model_id": "69b2526ed4a04bb88d8a8881aa1590f0",
       "version_major": 2,
       "version_minor": 0
      },
      "text/plain": [
       "VBox(children=(StructureBrowserWidget(children=(VBox(children=(VBox(children=(HTML(value='<p>Select the date r…"
      ]
     },
     "metadata": {},
     "output_type": "display_data"
    }
   ],
   "source": [
    "atoms = None\n",
    "slab_analyzed = None\n",
    "\n",
    "def on_struct_change(c):\n",
    "    global atoms, slab_analyzed\n",
    "    structure = struct_browser.results.value\n",
    "    if structure:\n",
    "        atoms = structure.get_ase()\n",
    "        atoms.pbc = [1, 1, 1]\n",
    "        \n",
    "        #slab_analyzed = find_mol.analyze_slab(atoms)\n",
    "        viewer_widget.setup(atoms)\n",
    "        \n",
    "        cell_text.value = \" \".join([str(c) for c in np.diag(atoms.cell)])\n",
    "\n",
    "    \n",
    "struct_browser = StructureBrowserWidget()\n",
    "struct_browser.results.observe(on_struct_change, names='value')\n",
    "\n",
    "viewer_widget = ViewerDetails()\n",
    "\n",
    "display(ipw.VBox([struct_browser, viewer_widget]))\n"
   ]
  },
  {
   "cell_type": "markdown",
   "metadata": {},
   "source": [
    "# Select computer and codes"
   ]
  },
  {
   "cell_type": "code",
   "execution_count": 5,
   "metadata": {},
   "outputs": [
    {
     "data": {
      "application/vnd.jupyter.widget-view+json": {
       "model_id": "fd6690fe0e994a4aa3bb857921421e14",
       "version_major": 2,
       "version_minor": 0
      },
      "text/plain": [
       "ComputerDropdown(children=(HBox(children=(Dropdown(description='Select computer:', options={'localhost': <Comp…"
      ]
     },
     "metadata": {},
     "output_type": "display_data"
    },
    {
     "data": {
      "application/vnd.jupyter.widget-view+json": {
       "model_id": "c63d6d35971640e19d954611817c8e25",
       "version_major": 2,
       "version_minor": 0
      },
      "text/plain": [
       "Dropdown(description='Cp2k code', options=(), value=None)"
      ]
     },
     "metadata": {},
     "output_type": "display_data"
    },
    {
     "data": {
      "application/vnd.jupyter.widget-view+json": {
       "model_id": "20799a302cd74695be213b4834dff246",
       "version_major": 2,
       "version_minor": 0
      },
      "text/plain": [
       "Dropdown(description='STM code', options=(), value=None)"
      ]
     },
     "metadata": {},
     "output_type": "display_data"
    },
    {
     "data": {
      "application/vnd.jupyter.widget-view+json": {
       "model_id": "ffd2d51ab38d4e52b4451af52a5335d1",
       "version_major": 2,
       "version_minor": 0
      },
      "text/plain": [
       "Checkbox(value=True, description='use ELPA')"
      ]
     },
     "metadata": {},
     "output_type": "display_data"
    }
   ],
   "source": [
    "computer_drop = ComputerDropdown()\n",
    "\n",
    "def on_computer_change(c):\n",
    "    global cp2k_codes, stm_codes\n",
    "    if computer_drop.selected_computer is not None:\n",
    "        cp2k_codes = common.comp_plugin_codes(computer_drop.selected_computer.name, 'cp2k')\n",
    "        stm_codes = common.comp_plugin_codes(computer_drop.selected_computer.name, 'spm.stm')\n",
    "\n",
    "        drop_cp2k.options = [c.label for c in cp2k_codes]\n",
    "        drop_stm.options = [c.label for c in stm_codes]\n",
    "    \n",
    "    \n",
    "computer_drop._dropdown.observe(on_computer_change)\n",
    "\n",
    "drop_cp2k = ipw.Dropdown(description=\"Cp2k code\")\n",
    "\n",
    "drop_stm = ipw.Dropdown(description=\"STM code\")\n",
    "\n",
    "on_computer_change(0)\n",
    "\n",
    "elpa_check = ipw.Checkbox(\n",
    "    value=True,\n",
    "    description='use ELPA',\n",
    "    disabled=False\n",
    ")\n",
    "\n",
    "display(computer_drop, drop_cp2k, drop_stm, elpa_check)"
   ]
  },
  {
   "cell_type": "markdown",
   "metadata": {},
   "source": [
    "# SCF parameters"
   ]
  },
  {
   "cell_type": "code",
   "execution_count": 6,
   "metadata": {},
   "outputs": [
    {
     "data": {
      "application/vnd.jupyter.widget-view+json": {
       "model_id": "132286547c8d4abba2e305fa1e66b101",
       "version_major": 2,
       "version_minor": 0
      },
      "text/plain": [
       "Text(value='', description='cell', layout=Layout(width='370px'), placeholder='10.0 20.0 30.0', style=Descripti…"
      ]
     },
     "metadata": {},
     "output_type": "display_data"
    }
   ],
   "source": [
    "style = {'description_width': '80px'}\n",
    "layout = {'width': '70%'}\n",
    "\n",
    "cell_text = ipw.Text(placeholder='10.0 20.0 30.0',\n",
    "                    description='cell',\n",
    "                    style=style, layout={'width': '370px'})\n",
    "display(cell_text)"
   ]
  },
  {
   "cell_type": "code",
   "execution_count": 7,
   "metadata": {},
   "outputs": [
    {
     "data": {
      "application/vnd.jupyter.widget-view+json": {
       "model_id": "63b4e277fd5f4e6791f63160fdfc9575",
       "version_major": 2,
       "version_minor": 0
      },
      "text/plain": [
       "IntText(value=0, description='charge', layout=Layout(width='15%'), style=DescriptionStyle(description_width='8…"
      ]
     },
     "metadata": {},
     "output_type": "display_data"
    }
   ],
   "source": [
    "charge_text = ipw.IntText(\n",
    "    value=0,\n",
    "    description='charge',\n",
    "    style=style, layout={'width': '15%'}\n",
    ")\n",
    "display(charge_text)"
   ]
  },
  {
   "cell_type": "code",
   "execution_count": 8,
   "metadata": {},
   "outputs": [
    {
     "data": {
      "application/vnd.jupyter.widget-view+json": {
       "model_id": "f24cc532da8e4aa2bd881949b0e4c779",
       "version_major": 2,
       "version_minor": 0
      },
      "text/plain": [
       "ToggleButton(value=False, description='Spin-polarized calculation', layout=Layout(width='450px'), style=Descri…"
      ]
     },
     "metadata": {},
     "output_type": "display_data"
    },
    {
     "data": {
      "application/vnd.jupyter.widget-view+json": {
       "model_id": "ca7dcc9959314edb9a9a9065a78a35f3",
       "version_major": 2,
       "version_minor": 0
      },
      "text/plain": [
       "HBox(children=(VBox(children=(Text(value='', description='Spin up', disabled=True, layout=Layout(width='370px'…"
      ]
     },
     "metadata": {},
     "output_type": "display_data"
    },
    {
     "data": {
      "application/vnd.jupyter.widget-view+json": {
       "model_id": "e2d6211f28fd4becab92d13c1ce146a4",
       "version_major": 2,
       "version_minor": 0
      },
      "text/plain": [
       "IntText(value=1, description='Multiplicity', disabled=True, layout=Layout(width='20%'), style=DescriptionStyle…"
      ]
     },
     "metadata": {},
     "output_type": "display_data"
    }
   ],
   "source": [
    "def enable_spin(b):\n",
    "    for w in [spin_up_text, spin_dw_text, vis_spin_button, multiplicity_text]:\n",
    "        w.disabled = not uks_switch.value\n",
    "\n",
    "def visualize_spin_guess(b):\n",
    "    spin_up = [int(v)-1 for v in spin_up_text.value.split()]\n",
    "    spin_dw = [int(v)-1 for v in spin_dw_text.value.split()]\n",
    "    viewer_widget.reset()\n",
    "    viewer_widget.highlight_atoms(spin_up, color='red', size=0.3, opacity=0.4)\n",
    "    viewer_widget.highlight_atoms(spin_dw, color='blue', size=0.3, opacity=0.4)\n",
    "\n",
    "uks_switch = ipw.ToggleButton(value=False,\n",
    "                              description='Spin-polarized calculation',\n",
    "                              style=style, layout={'width': '450px'})\n",
    "uks_switch.observe(enable_spin, names='value')\n",
    "\n",
    "spin_up_text = ipw.Text(placeholder='1 2 3',\n",
    "                        description='Spin up',\n",
    "                        disabled=True,\n",
    "                        style=style, layout={'width': '370px'})\n",
    "spin_dw_text = ipw.Text(placeholder='1 2 3',\n",
    "                        description='Spin down',\n",
    "                        disabled=True,\n",
    "                        style=style, layout={'width': '370px'})\n",
    "vis_spin_button = ipw.Button(description=\"Visualize\",\n",
    "                             disabled=True,\n",
    "                             style = {'description_width': '0px'}, layout={'width': '75px'})\n",
    "vis_spin_button.on_click(visualize_spin_guess)\n",
    "\n",
    "multiplicity_text = ipw.IntText(value=1,\n",
    "                           description='Multiplicity',\n",
    "                           disabled=True,\n",
    "                           style=style, layout={'width': '20%'})\n",
    "\n",
    "\n",
    "display(uks_switch, ipw.HBox([ipw.VBox([spin_up_text, spin_dw_text]), vis_spin_button]), multiplicity_text)"
   ]
  },
  {
   "cell_type": "code",
   "execution_count": 18,
   "metadata": {},
   "outputs": [
    {
     "data": {
      "application/vnd.jupyter.widget-view+json": {
       "model_id": "08c6be0b729d43de9b3d4de7f0c9320f",
       "version_major": 2,
       "version_minor": 0
      },
      "text/plain": [
       "ToggleButton(value=False, description='Enable Fermi-Dirac smearing', layout=Layout(width='450px'), style=Descr…"
      ]
     },
     "metadata": {},
     "output_type": "display_data"
    },
    {
     "data": {
      "application/vnd.jupyter.widget-view+json": {
       "model_id": "cb9e4e7a00eb4233a96617c86e89fc3a",
       "version_major": 2,
       "version_minor": 0
      },
      "text/plain": [
       "FloatText(value=300.0, description='Temperature [K]', disabled=True, layout=Layout(width='20%'), style=Descrip…"
      ]
     },
     "metadata": {},
     "output_type": "display_data"
    }
   ],
   "source": [
    "def enable_smearing(b):\n",
    "    temperature_text.disabled = not smear_switch.value\n",
    "\n",
    "smear_switch = ipw.ToggleButton(value=False,\n",
    "                              description='Enable Fermi-Dirac smearing',\n",
    "                              style=style, layout={'width': '450px'})\n",
    "smear_switch.observe(enable_smearing, names='value')\n",
    "\n",
    "temperature_text = ipw.FloatText(value=300.0,\n",
    "                           description='Temperature [K]',\n",
    "                           disabled=True,\n",
    "                           style={'description_width': '100px'}, layout={'width': '20%'})\n",
    "\n",
    "\n",
    "display(smear_switch, temperature_text)"
   ]
  },
  {
   "cell_type": "markdown",
   "metadata": {},
   "source": [
    "# Orbital parameters"
   ]
  },
  {
   "cell_type": "code",
   "execution_count": null,
   "metadata": {},
   "outputs": [],
   "source": [
    "style = {'description_width': '140px'}\n",
    "layout = {'width': '40%'}\n",
    "layout_small = {'width': '25%'}\n",
    "\n",
    "n_homo_inttext = ipw.IntText(\n",
    "                        description='num HOMO',\n",
    "                        min=0,\n",
    "                        max=100,\n",
    "                        value=10,\n",
    "                        style=style, layout=layout_small)\n",
    "n_lumo_inttext = ipw.IntText(\n",
    "                        description='num LUMO',\n",
    "                        min=0,\n",
    "                        max=100,\n",
    "                        value=10,\n",
    "                        style=style, layout=layout_small)\n",
    "\n",
    "heights_text = ipw.Text(description='Heights (ang)',\n",
    "                              value='3.0 5.0',\n",
    "                              style=style, layout=layout)\n",
    "\n",
    "isovals_text = ipw.Text(description='Isovalues',\n",
    "                              value='1e-7',\n",
    "                              style=style, layout=layout)\n",
    "\n",
    "fwhms_text = ipw.Text(description='FWHMs (eV)',\n",
    "                              value='0.04',\n",
    "                              style=style, layout=layout)\n",
    "\n",
    "extrap_plane_floattext = ipw.BoundedFloatText(\n",
    "                        description='Extrap plane (ang)',\n",
    "                        min=1.0,\n",
    "                        max=10.0,\n",
    "                        step=0.1,\n",
    "                        value=3.5,\n",
    "                        style=style, layout=layout_small)\n",
    "\n",
    "\n",
    "display(n_homo_inttext, n_lumo_inttext, heights_text, isovals_text, fwhms_text, extrap_plane_floattext)"
   ]
  },
  {
   "cell_type": "code",
   "execution_count": null,
   "metadata": {},
   "outputs": [],
   "source": [
    "def on_submit(b):\n",
    "    with submit_out:\n",
    "        clear_output()\n",
    "        if not struct_browser.results.value:\n",
    "            print(\"Please select a structure.\")\n",
    "            return\n",
    "        if not computer_drop.selected_computer:\n",
    "            print(\"Please select a computer.\")\n",
    "            return\n",
    "        \n",
    "        cell = np.array(cell_text.value.split(), dtype=float)\n",
    "        \n",
    "        if len(cell) != 3 or any(cell) <= 0.0:\n",
    "            print(\"Invalid cell\")\n",
    "            return\n",
    "        \n",
    "        dft_params_dict = {\n",
    "            'mgrid_cutoff':    600,\n",
    "            'elpa_switch':     elpa_check.value,\n",
    "            'cell':            list(cell),\n",
    "            'uks':             uks_switch.value,\n",
    "            'smearing':        smear_switch.value,\n",
    "            'charge':          charge_text.value\n",
    "        }\n",
    "        if uks_switch.value:\n",
    "            dft_params_dict['spin_up_guess'] = [int(v)-1 for v in spin_up_text.value.split()]\n",
    "            dft_params_dict['spin_dw_guess'] = [int(v)-1 for v in spin_dw_text.value.split()]\n",
    "            dft_params_dict['multiplicity']  = multiplicity_text.value\n",
    "            \n",
    "        if smear_switch.value:\n",
    "            dft_params_dict['smear_t'] = temperature_text.value\n",
    "            \n",
    "        dft_params = Dict(dict=dft_params_dict)\n",
    "\n",
    "        extrap_plane = extrap_plane_floattext.value\n",
    "        parent_dir = \"parent_calc_folder/\"\n",
    "        stm_params = Dict(dict={\n",
    "            '--cp2k_input_file':    parent_dir+'aiida.inp',\n",
    "            '--basis_set_file':     parent_dir+'BASIS_MOLOPT',\n",
    "            '--xyz_file':           parent_dir+'geom.xyz',\n",
    "            '--wfn_file':           parent_dir+'aiida-RESTART.wfn',\n",
    "            '--hartree_file':       parent_dir+'aiida-HART-v_hartree-1_0.cube',\n",
    "            '--orb_output_file':    'orb.npz',\n",
    "            '--eval_region':        ['G', 'G', 'G', 'G', 'n-1.0_C', 'p%.1f'%extrap_plane],\n",
    "            '--dx':                 '0.15',\n",
    "            '--eval_cutoff':        '14.0',\n",
    "            '--extrap_extent':      '5.0',\n",
    "            '--n_homo':             str(n_homo_inttext.value),\n",
    "            '--n_lumo':             str(n_lumo_inttext.value),\n",
    "            '--orb_heights':        heights_text.value.split(),\n",
    "            '--orb_isovalues':      isovals_text.value.split(),\n",
    "            '--orb_fwhms':          fwhms_text.value.split(),\n",
    "        })\n",
    "        \n",
    "        cp2k_code = cp2k_codes[drop_cp2k.index]\n",
    "        stm_code = stm_codes[drop_stm.index]\n",
    "        \n",
    "        struct = struct_browser.results.value\n",
    "        \n",
    "        ## Try to access the restart-wfn file ##\n",
    "        selected_comp = cp2k_code.computer\n",
    "        wfn_file_path = common.find_struct_wf(struct, selected_comp)\n",
    "        if wfn_file_path == \"\":\n",
    "            print(\"Didn't find any accessible .wfn file.\")\n",
    "        else:\n",
    "            if uks_switch.value:\n",
    "                print(\"Not re-using .wfn for UKS calculation.\")\n",
    "                wfn_file_path = \"\"\n",
    "        \n",
    "        node = submit(\n",
    "            OrbitalWorkChain,\n",
    "            cp2k_code=cp2k_code,\n",
    "            structure=struct,\n",
    "            wfn_file_path=Str(wfn_file_path),\n",
    "            dft_params=dft_params,\n",
    "            stm_code=stm_code,\n",
    "            stm_params=stm_params\n",
    "        )\n",
    "        \n",
    "        # set calculation version; also used to determine post-processing\n",
    "        node.set_extra(\"version\", 0)\n",
    "        \n",
    "        print()\n",
    "        print(\"Submitted:\")\n",
    "        print(node)\n",
    "\n",
    "btn_submit = ipw.Button(description=\"Submit\")\n",
    "btn_submit.on_click(on_submit)\n",
    "submit_out = ipw.Output()\n",
    "display(btn_submit, submit_out)"
   ]
  },
  {
   "cell_type": "code",
   "execution_count": null,
   "metadata": {},
   "outputs": [],
   "source": []
  }
 ],
 "metadata": {
  "kernelspec": {
   "display_name": "Python 3",
   "language": "python",
   "name": "python3"
  },
  "language_info": {
   "codemirror_mode": {
    "name": "ipython",
    "version": 3
   },
   "file_extension": ".py",
   "mimetype": "text/x-python",
   "name": "python",
   "nbconvert_exporter": "python",
   "pygments_lexer": "ipython3",
   "version": "3.7.4"
  }
 },
 "nbformat": 4,
 "nbformat_minor": 2
}
