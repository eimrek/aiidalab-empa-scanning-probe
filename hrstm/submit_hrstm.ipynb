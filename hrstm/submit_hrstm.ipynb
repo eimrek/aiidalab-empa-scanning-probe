{
 "cells": [
  {
   "cell_type": "code",
   "execution_count": 1,
   "metadata": {},
   "outputs": [
    {
     "data": {
      "application/json": {
       "current_state": "Loaded AiiDA DB environment."
      },
      "text/html": [
       "<p>Loaded AiiDA DB environment.</p>"
      ],
      "text/latex": [
       "Loaded AiiDA DB environment.\n"
      ],
      "text/plain": [
       "Loaded AiiDA DB environment.\n"
      ]
     },
     "execution_count": 1,
     "metadata": {},
     "output_type": "execute_result"
    }
   ],
   "source": [
    "%aiida"
   ]
  },
  {
   "cell_type": "code",
   "execution_count": 9,
   "metadata": {},
   "outputs": [],
   "source": [
    "\n",
    "from aiida_cp2k.calculations import Cp2kCalculation\n",
    "\n",
    "from aiida.orm import StructureData\n",
    "from aiida.orm import ArrayData\n",
    "from aiida.engine import submit, run_get_node\n",
    "\n",
    "from aiidalab_widgets_base import CodeDropdown, SubmitButtonWidget, MetadataWidget, StructureBrowserWidget\n",
    "from aiidalab_widgets_base import ComputerDropdown\n",
    "\n",
    "from apps.surfaces.widgets import analyze_structure\n",
    "from apps.surfaces.widgets.viewer_details import ViewerDetails\n",
    "\n",
    "import ase\n",
    "import ase.io\n",
    "import numpy as np\n",
    "import os\n",
    "import nglview\n",
    "from copy import deepcopy\n",
    "from pprint import pprint\n",
    "from collections import defaultdict\n",
    "\n",
    "import ipywidgets as ipw\n",
    "from IPython.display import display, clear_output, HTML\n",
    "\n",
    "from math import floor, log10\n",
    "\n",
    "from apps.scanning_probe.hrstm.hrstm_workchain import HRSTMWorkChain\n",
    "from apps.scanning_probe import common\n"
   ]
  },
  {
   "cell_type": "markdown",
   "metadata": {},
   "source": [
    "# Select structure"
   ]
  },
  {
   "cell_type": "code",
   "execution_count": 3,
   "metadata": {},
   "outputs": [
    {
     "data": {
      "application/vnd.jupyter.widget-view+json": {
       "model_id": "12795ed2b8b44ea2a6025d42b538d26e",
       "version_major": 2,
       "version_minor": 0
      },
      "text/plain": [
       "VBox(children=(StructureBrowserWidget(children=(VBox(children=(VBox(children=(HTML(value='<p>Select the date r…"
      ]
     },
     "metadata": {},
     "output_type": "display_data"
    }
   ],
   "source": [
    "atoms = None\n",
    "\n",
    "def on_struct_change(c):\n",
    "    global atoms\n",
    "    structure = struct_browser.results.value\n",
    "    if structure:\n",
    "        atoms = structure.get_ase()\n",
    "        atoms.pbc = [1, 1, 1]\n",
    "        \n",
    "        viewer_widget.setup(atoms)\n",
    "\n",
    "    \n",
    "struct_browser = StructureBrowserWidget()\n",
    "struct_browser.results.observe(on_struct_change, names='value')\n",
    "\n",
    "viewer_widget = ViewerDetails()\n",
    "\n",
    "display(ipw.VBox([struct_browser, viewer_widget]))"
   ]
  },
  {
   "cell_type": "markdown",
   "metadata": {},
   "source": [
    "# Select computer and codes"
   ]
  },
  {
   "cell_type": "code",
   "execution_count": 4,
   "metadata": {},
   "outputs": [
    {
     "data": {
      "application/vnd.jupyter.widget-view+json": {
       "model_id": "bce16253963b4876a1b8b2ac551baf3e",
       "version_major": 2,
       "version_minor": 0
      },
      "text/plain": [
       "ComputerDropdown(children=(HBox(children=(Dropdown(description='Select computer:', options={'localhost': <Comp…"
      ]
     },
     "metadata": {},
     "output_type": "display_data"
    },
    {
     "data": {
      "application/vnd.jupyter.widget-view+json": {
       "model_id": "f8a1fd4d6b6a4b2bb3ec3041456001e3",
       "version_major": 2,
       "version_minor": 0
      },
      "text/plain": [
       "Dropdown(description='Cp2k code', options=('cp2k',), value='cp2k')"
      ]
     },
     "metadata": {},
     "output_type": "display_data"
    },
    {
     "data": {
      "application/vnd.jupyter.widget-view+json": {
       "model_id": "d48eb08ae16848b4883b76729dbcf533",
       "version_major": 2,
       "version_minor": 0
      },
      "text/plain": [
       "Dropdown(description='PPM code', options=(), value=None)"
      ]
     },
     "metadata": {},
     "output_type": "display_data"
    },
    {
     "data": {
      "application/vnd.jupyter.widget-view+json": {
       "model_id": "7bb034161c404a8394d3656869b9d9b4",
       "version_major": 2,
       "version_minor": 0
      },
      "text/plain": [
       "Dropdown(description='HR-STM code', options=(), value=None)"
      ]
     },
     "metadata": {},
     "output_type": "display_data"
    },
    {
     "data": {
      "application/vnd.jupyter.widget-view+json": {
       "model_id": "edd5cabe19da44f7b90efc234d0137a0",
       "version_major": 2,
       "version_minor": 0
      },
      "text/plain": [
       "Checkbox(value=True, description='use ELPA')"
      ]
     },
     "metadata": {},
     "output_type": "display_data"
    }
   ],
   "source": [
    "style = {'description_width': '120px'}\n",
    "layout = {'width': '70%'}\n",
    "\n",
    "computer_drop = ComputerDropdown()\n",
    "\n",
    "def on_computer_change(c):\n",
    "    global cp2k_codes, ppm_codes, hrstm_codes\n",
    "    cp2k_codes = common.comp_plugin_codes(computer_drop.selected_computer.name, 'cp2k')\n",
    "    ppm_codes = common.comp_plugin_codes(computer_drop.selected_computer.name, 'spm.afm')\n",
    "    hrstm_codes = common.comp_plugin_codes(computer_drop.selected_computer.name, 'spm.hrstm')\n",
    "    \n",
    "    drop_cp2k.options = [c.label for c in cp2k_codes]\n",
    "    drop_ppm.options = [(c.label, c) for c in ppm_codes if \"_2pp\" in c.label]\n",
    "    drop_hrstm.options = [c.label for c in hrstm_codes]\n",
    "    \n",
    "    \n",
    "computer_drop._dropdown.observe(on_computer_change)\n",
    "\n",
    "drop_cp2k = ipw.Dropdown(description=\"Cp2k code\")\n",
    "\n",
    "drop_ppm = ipw.Dropdown(description=\"PPM code\")\n",
    "\n",
    "drop_hrstm = ipw.Dropdown(description=\"HR-STM code\")\n",
    "\n",
    "on_computer_change(0)\n",
    "\n",
    "elpa_check = ipw.Checkbox(\n",
    "    value=True,\n",
    "    description='use ELPA',\n",
    "    disabled=False\n",
    ")\n",
    "\n",
    "display(computer_drop, drop_cp2k, drop_ppm, drop_hrstm, elpa_check)"
   ]
  },
  {
   "cell_type": "markdown",
   "metadata": {},
   "source": [
    "# Simulation Parameters"
   ]
  },
  {
   "cell_type": "markdown",
   "metadata": {},
   "source": [
    "### Probe Particle Model Parameters"
   ]
  },
  {
   "cell_type": "code",
   "execution_count": 5,
   "metadata": {},
   "outputs": [
    {
     "data": {
      "application/vnd.jupyter.widget-view+json": {
       "model_id": "1e411bdd6c394369a983344c2c3d6942",
       "version_major": 2,
       "version_minor": 0
      },
      "text/plain": [
       "BoundedFloatText(value=0.1, description='Scan d\\\\(\\\\mathbf{x}\\\\) (\\\\(Ang\\\\))', layout=Layout(width='60%'), max…"
      ]
     },
     "metadata": {},
     "output_type": "display_data"
    },
    {
     "data": {
      "application/vnd.jupyter.widget-view+json": {
       "model_id": "5eb7e2315184431ebe390700d77440b0",
       "version_major": 2,
       "version_minor": 0
      },
      "text/plain": [
       "BoundedFloatText(value=4.5, description='Scan \\\\(z_{min}\\\\) (\\\\(Ang)\\\\)', layout=Layout(width='60%'), max=10.0…"
      ]
     },
     "metadata": {},
     "output_type": "display_data"
    },
    {
     "data": {
      "application/vnd.jupyter.widget-view+json": {
       "model_id": "3a1f17826f74470f9c3abe7b3f65a763",
       "version_major": 2,
       "version_minor": 0
      },
      "text/plain": [
       "BoundedFloatText(value=7.5, description='Scan \\\\(z_{max}\\\\) (\\\\(Ang\\\\))', layout=Layout(width='60%'), max=10.0…"
      ]
     },
     "metadata": {},
     "output_type": "display_data"
    },
    {
     "data": {
      "application/vnd.jupyter.widget-view+json": {
       "model_id": "d9fc54e271404d03bbb4b3b2bb95c0d1",
       "version_major": 2,
       "version_minor": 0
      },
      "text/plain": [
       "FloatText(value=1.4, description='Amplitude (\\\\(Ang\\\\))', layout=Layout(width='60%'), step=0.1, style=Descript…"
      ]
     },
     "metadata": {},
     "output_type": "display_data"
    },
    {
     "data": {
      "application/vnd.jupyter.widget-view+json": {
       "model_id": "c4290bc2202f485c865d673445263a58",
       "version_major": 2,
       "version_minor": 0
      },
      "text/plain": [
       "FloatText(value=22352.5, description='Cantilever (\\\\(f_0\\\\)) ', layout=Layout(width='60%'), step=0.1, style=De…"
      ]
     },
     "metadata": {},
     "output_type": "display_data"
    },
    {
     "data": {
      "application/vnd.jupyter.widget-view+json": {
       "model_id": "3ad06b58b06c4f60bc7ac5a8504c7831",
       "version_major": 2,
       "version_minor": 0
      },
      "text/plain": [
       "ToggleButtons(description='2PP RESP model', layout=Layout(width='60%'), options={'pentacene': [-0.0669933, -0.…"
      ]
     },
     "metadata": {},
     "output_type": "display_data"
    }
   ],
   "source": [
    "style = {'description_width': 'initial'}\n",
    "layout = {'width': '60%'}\n",
    "scandx_ipw = ipw.BoundedFloatText(description=\"Scan d\\(\\mathbf{x}\\) (\\(Ang\\))\",\n",
    "                                  value=0.1, min=0.05, max=0.5, step=0.05,\n",
    "                                  style=style, layout=layout)\n",
    "# NOTE: Minimum value of 3.0 because that is the size of the tip!\n",
    "scanmin_ipw = ipw.BoundedFloatText(description=\"Scan \\(z_{min}\\) (\\(Ang)\\)\",\n",
    "                                   value=4.5, min=3.0, max=10.0, step=0.1,\n",
    "                                   style=style, layout=layout)\n",
    "scanmax_ipw = ipw.BoundedFloatText(description=\"Scan \\(z_{max}\\) (\\(Ang\\))\",\n",
    "                                   value=7.5, min=3.0, max=10.0, step=0.1,\n",
    "                                   style=style, layout=layout)\n",
    "amp_ipw = ipw.FloatText(description=\"Amplitude (\\(Ang\\))\",\n",
    "                        value=1.4, step=0.1,\n",
    "                        style=style, layout=layout)\n",
    "f0cantilever_ipw = ipw.FloatText(description=\"Cantilever (\\(f_0\\)) \",\n",
    "                                 value=22352.5, step=0.1,\n",
    "                                 style=style, layout=layout)\n",
    "tpp_resp_ipw = ipw.ToggleButtons(description=\"2PP RESP model\",\n",
    "                            options = { # ChargeCuUp, ChargeCuDown, Ccharge, Ocharge\n",
    "                                'pentacene': [-0.0669933, -0.0627402, 0.212718, -0.11767],\n",
    "                                'ptcda':     [     -0.05,      -0.07,     0.23,    -0.13]\n",
    "                            },\n",
    "                            style=style, layout=layout)\n",
    "# Show\n",
    "display(scandx_ipw, scanmin_ipw, scanmax_ipw,\n",
    "        amp_ipw, f0cantilever_ipw, tpp_resp_ipw)"
   ]
  },
  {
   "cell_type": "markdown",
   "metadata": {},
   "source": [
    "### High-Resolution STM Parameters"
   ]
  },
  {
   "cell_type": "code",
   "execution_count": 6,
   "metadata": {},
   "outputs": [
    {
     "data": {
      "application/vnd.jupyter.widget-view+json": {
       "model_id": "3a0a154a9d234f0dbadb6394caa89ac9",
       "version_major": 2,
       "version_minor": 0
      },
      "text/plain": [
       "HBox(children=(Label(value='Voltage Range:', layout=Layout(width='25%'), style=DescriptionStyle(description_wi…"
      ]
     },
     "metadata": {},
     "output_type": "display_data"
    },
    {
     "data": {
      "application/vnd.jupyter.widget-view+json": {
       "model_id": "167d3913e41e49a9b00bc64eb8c5d9c3",
       "version_major": 2,
       "version_minor": 0
      },
      "text/plain": [
       "BoundedFloatText(value=0.05, description='FWHM for DOS of Sample (\\\\(e\\\\)V)', layout=Layout(width='60%'), max=…"
      ]
     },
     "metadata": {},
     "output_type": "display_data"
    },
    {
     "data": {
      "application/vnd.jupyter.widget-view+json": {
       "model_id": "ec5bef70623f40d3a106fa9df7e75f6c",
       "version_major": 2,
       "version_minor": 0
      },
      "text/plain": [
       "BoundedFloatText(value=5.0, description='Workfunction of Sample (\\\\(e\\\\)V)', layout=Layout(width='60%'), max=1…"
      ]
     },
     "metadata": {},
     "output_type": "display_data"
    },
    {
     "data": {
      "application/vnd.jupyter.widget-view+json": {
       "model_id": "2d578e8281d64652a6aa86bcf9e308da",
       "version_major": 2,
       "version_minor": 0
      },
      "text/plain": [
       "BoundedFloatText(value=0.2, description='Meshwidth for Grid Orbitals d\\\\(\\\\mathbf{x}\\\\) (\\\\(Ang\\\\))', layout=L…"
      ]
     },
     "metadata": {},
     "output_type": "display_data"
    },
    {
     "data": {
      "application/vnd.jupyter.widget-view+json": {
       "model_id": "da1916b3dbe046e4b6a075b4b923d375",
       "version_major": 2,
       "version_minor": 0
      },
      "text/plain": [
       "BoundedFloatText(value=4.0, description='Extrapolation Plane (\\\\(Ang\\\\))', layout=Layout(width='60%'), max=10.…"
      ]
     },
     "metadata": {},
     "output_type": "display_data"
    },
    {
     "data": {
      "application/vnd.jupyter.widget-view+json": {
       "model_id": "82474ab38acf4279a811236bd819c10e",
       "version_major": 2,
       "version_minor": 0
      },
      "text/plain": [
       "ToggleButtons(description='Tip Type', index=1, layout=Layout(width='60%'), options=('parametrized', 'blunt'), …"
      ]
     },
     "metadata": {},
     "output_type": "display_data"
    },
    {
     "data": {
      "application/vnd.jupyter.widget-view+json": {
       "model_id": "f926ffabb5b1494d9d545939b3d6f019",
       "version_major": 2,
       "version_minor": 0
      },
      "text/plain": [
       "Checkbox(value=True, description='Rotate Tip Coefficients', layout=Layout(width='60%'), style=DescriptionStyle…"
      ]
     },
     "metadata": {},
     "output_type": "display_data"
    },
    {
     "data": {
      "application/vnd.jupyter.widget-view+json": {
       "model_id": "b6492a3c44064e27a398510e86378e64",
       "version_major": 2,
       "version_minor": 0
      },
      "text/plain": [
       "BoundedIntText(value=1, description='Maximal Tip Orbital', layout=Layout(width='60%'), max=1, style=Descriptio…"
      ]
     },
     "metadata": {},
     "output_type": "display_data"
    },
    {
     "data": {
      "application/vnd.jupyter.widget-view+json": {
       "model_id": "364d32c9ff8c4d2e81ab05ecca4bfd13",
       "version_major": 2,
       "version_minor": 0
      },
      "text/plain": [
       "BoundedFloatText(value=0.0, description='FWHM for DOS of Tip (\\\\(e\\\\)V)', layout=Layout(width='60%'), max=1.0,…"
      ]
     },
     "metadata": {},
     "output_type": "display_data"
    },
    {
     "data": {
      "application/vnd.jupyter.widget-view+json": {
       "model_id": "2d08d6bb8bf34ad28269f2a43d608390",
       "version_major": 2,
       "version_minor": 0
      },
      "text/plain": [
       "BoundedFloatText(value=0.15, description='\\\\(s\\\\)-Value', disabled=True, layout=Layout(width='60%'), max=1.0, …"
      ]
     },
     "metadata": {},
     "output_type": "display_data"
    },
    {
     "data": {
      "application/vnd.jupyter.widget-view+json": {
       "model_id": "c076a0e0e3da4a66a8828a0239536311",
       "version_major": 2,
       "version_minor": 0
      },
      "text/plain": [
       "BoundedFloatText(value=0.5, description='\\\\(p_y\\\\)-Value', disabled=True, layout=Layout(width='60%'), max=1.0,…"
      ]
     },
     "metadata": {},
     "output_type": "display_data"
    },
    {
     "data": {
      "application/vnd.jupyter.widget-view+json": {
       "model_id": "94a5a5d508a04e0fabf93cfe8c0b1352",
       "version_major": 2,
       "version_minor": 0
      },
      "text/plain": [
       "BoundedFloatText(value=0.0, description='\\\\(p_z\\\\)-Value', disabled=True, layout=Layout(width='60%'), max=1.0,…"
      ]
     },
     "metadata": {},
     "output_type": "display_data"
    },
    {
     "data": {
      "application/vnd.jupyter.widget-view+json": {
       "model_id": "ebd628b7e78f40d686619f9b4bbea198",
       "version_major": 2,
       "version_minor": 0
      },
      "text/plain": [
       "BoundedFloatText(value=0.5, description='\\\\(p_x\\\\)-Value', disabled=True, layout=Layout(width='60%'), max=1.0,…"
      ]
     },
     "metadata": {},
     "output_type": "display_data"
    }
   ],
   "source": [
    "style = {'description_width': 'initial'}\n",
    "layout = {'width': '60%'}\n",
    "layout_min = {'width': '25%'}\n",
    "\n",
    "voltext_ipw = ipw.Label(value=\"Voltage Range:\",\n",
    "                        style=style, layout=layout_min)\n",
    "volstep_ipw = ipw.BoundedFloatText(description=\"Step\",\n",
    "                                   value=0.1, min=0.01, max=0.5, step=0.01,\n",
    "                                   style=style, layout=layout_min)\n",
    "volmin_ipw = ipw.FloatText(description=\"Min\",\n",
    "                           value=-0.3,\n",
    "                           style=style, layout=layout_min)\n",
    "volmax_ipw = ipw.FloatText(description=\"Max\",\n",
    "                           value=0.3,\n",
    "                           style=style, layout=layout_min)\n",
    "\n",
    "fwhm_ipw = ipw.BoundedFloatText(description=\"FWHM for DOS of Sample (\\(e\\)V)\",\n",
    "                                value=0.05, min=0.01, max=0.5, step=0.01,\n",
    "                                style=style, layout=layout)\n",
    "workfun_ipw = ipw.BoundedFloatText(description=\"Workfunction of Sample (\\(e\\)V)\",\n",
    "                                  value=5.0, min=1.0, max=10.0, step=0.1,\n",
    "                                  style=style, layout=layout)\n",
    "wfnstep_ipw = ipw.BoundedFloatText(description=\"Meshwidth for Grid Orbitals d\\(\\mathbf{x}\\) (\\(Ang\\))\",\n",
    "                                   value=0.2, min=0.05, max=1.0, step=0.05,\n",
    "                                   style=style, layout=layout)\n",
    "extrap_ipw = ipw.BoundedFloatText(description=\"Extrapolation Plane (\\(Ang\\))\",\n",
    "                                  value=4.0, min=1.0, max=10.0, step=0.1,\n",
    "                                  style=style, layout=layout)\n",
    "# Tip stuff\n",
    "tiptype_ipw = ipw.ToggleButtons(description=\"Tip Type\",\n",
    "                                value='blunt', options=['parametrized', 'blunt'],\n",
    "                                style=style, layout=layout)\n",
    "rotate_ipw = ipw.Checkbox(description=\"Rotate Tip Coefficients\",\n",
    "                          value=True,\n",
    "                          style=style, layout=layout)\n",
    "orbstip_ipw = ipw.BoundedIntText(description=\"Maximal Tip Orbital\",\n",
    "                                 value=1, min=0, max=1, step=1,\n",
    "                                 style=style, layout=layout)\n",
    "fwhmtip_ipw = ipw.BoundedFloatText(description=\"FWHM for DOS of Tip (\\(e\\)V)\",\n",
    "                                value=0.00, min=0.00, max=1.0, step=0.01,\n",
    "                                disabled=(tiptype_ipw.value=='parametrized'),\n",
    "                                style=style, layout=layout)\n",
    "## Parametrized tip info\n",
    "stip_ipw = ipw.BoundedFloatText(description=\"\\(s\\)-Value\",\n",
    "                                value=0.15, min=0.0, max=1.0, step=0.01,\n",
    "                                disabled=(not tiptype_ipw.value=='parametrized'),\n",
    "                                style=style, layout=layout)\n",
    "pytip_ipw = ipw.BoundedFloatText(description=\"\\(p_y\\)-Value\",\n",
    "                                value=0.5, min=0.0, max=1.0, step=0.01,\n",
    "                                disabled=(not tiptype_ipw.value=='parametrized'),\n",
    "                                style=style, layout=layout)\n",
    "pztip_ipw = ipw.BoundedFloatText(description=\"\\(p_z\\)-Value\",\n",
    "                                value=0.0, min=0.0, max=1.0, step=0.01,\n",
    "                                disabled=(not tiptype_ipw.value=='parametrized'),\n",
    "                                style=style, layout=layout)\n",
    "pxtip_ipw = ipw.BoundedFloatText(description=\"\\(p_x\\)-Value\",\n",
    "                                value=0.5, min=0.0, max=1.0, step=0.01,\n",
    "                                disabled=(not tiptype_ipw.value=='parametrized'),\n",
    "                                style=style, layout=layout)\n",
    "para_list = [stip_ipw, pytip_ipw, pztip_ipw, pxtip_ipw, fwhmtip_ipw]\n",
    "def para_values(value):\n",
    "    if value=='parametrized':\n",
    "        stip_ipw.disabled = False\n",
    "        pytip_ipw.disabled = False\n",
    "        pztip_ipw.disabled = False\n",
    "        pxtip_ipw.disabled = False\n",
    "        fwhmtip_ipw.disabled = True\n",
    "        # Always using p-orbitals for parametrized tip\n",
    "        orbstip_ipw.value = 1\n",
    "        orbstip_ipw.disabled = True\n",
    "    else:\n",
    "        stip_ipw.disabled = True\n",
    "        pytip_ipw.disabled = True\n",
    "        pztip_ipw.disabled = True\n",
    "        pxtip_ipw.disabled = True\n",
    "        fwhmtip_ipw.disabled = False\n",
    "        orbstip_ipw.disabled = False\n",
    "para_ipw = ipw.interactive(para_values, value=tiptype_ipw)\n",
    "# Show\n",
    "display(ipw.HBox([voltext_ipw,volmin_ipw,volmax_ipw,volstep_ipw], style=style, layout=layout))\n",
    "display(fwhm_ipw, workfun_ipw, wfnstep_ipw, extrap_ipw,\n",
    "        tiptype_ipw, rotate_ipw, orbstip_ipw, fwhmtip_ipw, stip_ipw, pytip_ipw, pztip_ipw, pxtip_ipw)"
   ]
  },
  {
   "cell_type": "code",
   "execution_count": 7,
   "metadata": {},
   "outputs": [],
   "source": [
    "# Taken from AFM and slightly adjusted\n",
    "def create_2pp_parameterdict(ase_geom):\n",
    "    cell = ase_geom.cell\n",
    "    top_z = np.max(ase_geom.positions[:, 2])\n",
    "    dx = scandx_ipw.value\n",
    "    resp = tpp_resp_ipw.value\n",
    "    paramdict = {\n",
    "        'Catom':        'Ctip',\n",
    "        'Oatom':        'Otip',\n",
    "        'ChargeCuUp':   resp[0],\n",
    "        'ChargeCuDown': resp[1],\n",
    "        'Ccharge':      resp[2],\n",
    "        'Ocharge':      resp[3],\n",
    "        'sigma':        0.7,\n",
    "        'Cklat':        0.24600212465950813,\n",
    "        'Oklat':        0.15085476515590224,\n",
    "        'Ckrad':        20,\n",
    "        'Okrad':        20,\n",
    "        'rC0':          [0.0, 0.0, 1.82806112489999961213],\n",
    "        'rO0':          [0.0, 0.0, 1.14881347770000097341],\n",
    "        # We have periodic boundaries\n",
    "        'PBC':          'True',\n",
    "        'gridA':        list(cell[0]),\n",
    "        'gridB':        list(cell[1]),\n",
    "        'gridC':        list(cell[2]),\n",
    "        'scanMin':      [0.0, 0.0, np.round(top_z, 1)+scanmin_ipw.value],\n",
    "        'scanMax':      [cell[0,0], cell[1,1], np.round(top_z, 1)+scanmax_ipw.value],\n",
    "        'scanStep':     [dx, dx, dx],\n",
    "        'Amplitude':    amp_ipw.value,\n",
    "        'f0Cantilever': f0cantilever_ipw.value,\n",
    "        'tip':          'None',\n",
    "        'Omultipole':   's',\n",
    "    }\n",
    "    return paramdict"
   ]
  },
  {
   "cell_type": "code",
   "execution_count": 10,
   "metadata": {},
   "outputs": [
    {
     "data": {
      "application/vnd.jupyter.widget-view+json": {
       "model_id": "2c9122b5bcb24d91a1fe1d00af6af2d0",
       "version_major": 2,
       "version_minor": 0
      },
      "text/plain": [
       "Button(description='Submit', style=ButtonStyle())"
      ]
     },
     "metadata": {},
     "output_type": "display_data"
    },
    {
     "data": {
      "application/vnd.jupyter.widget-view+json": {
       "model_id": "dd97110bb6624e249fa6422020775514",
       "version_major": 2,
       "version_minor": 0
      },
      "text/plain": [
       "Output()"
      ]
     },
     "metadata": {},
     "output_type": "display_data"
    }
   ],
   "source": [
    "def file_exists_func(hostname, path):\n",
    "    # has to be defined in jupyter notebook because of !\n",
    "    file_exists = ! ssh {hostname} \"if [ -f {path} ]; then echo 1 ; else echo 0 ; fi\"\n",
    "    if file_exists[0] == '0':\n",
    "        return False\n",
    "    else:\n",
    "        return True\n",
    "\n",
    "def on_submit(b):\n",
    "    with submit_out:\n",
    "        clear_output()\n",
    "        if not struct_browser.results.value:\n",
    "            print(\"Please select a structure.\")\n",
    "            return\n",
    "        if not computer_drop.selected_computer:\n",
    "            print(\"Please select a computer.\")\n",
    "            return\n",
    "\n",
    "        cp2k_code = cp2k_codes[drop_cp2k.index]\n",
    "        ppm_code = drop_ppm.value\n",
    "        hrstm_code = hrstm_codes[drop_hrstm.index]\n",
    "        \n",
    "        # External folders\n",
    "        parent_dir = \"parent_calc_folder/\"\n",
    "        ppm_dir = \"ppm_calc_folder/\"\n",
    "        \n",
    "        struct = struct_browser.results.value\n",
    "        ase_geom = struct.get_ase()   \n",
    "        cell = ArrayData()\n",
    "        cell.set_array('cell', np.diag(ase_geom.cell))\n",
    "        \n",
    "        # PPM parameters\n",
    "        ppm_params_dict = create_2pp_parameterdict(ase_geom)\n",
    "        ppm_params = Dict(dict=ppm_params_dict)\n",
    "        \n",
    "        # PPM folder of position\n",
    "        #ppmQK = ppm_dir+\"Q%1.2fK%1.2f/\" %(ppm_params_dict['Ocharge'], ppm_params_dict['Oklat'])\n",
    "        # new convention:\n",
    "        ppmQK = ppm_dir+\"Qo%1.2fQc%1.2fK%1.2f/\" % (ppm_params_dict['Ocharge'], ppm_params_dict['Ccharge'],\n",
    "                                                   ppm_params_dict['Oklat'])\n",
    "        \n",
    "        # Tip type to determine PDOS and PPM position files\n",
    "        if tiptype_ipw.value != \"parametrized\":\n",
    "            pdos_list = tiptype_ipw.value\n",
    "            path = os.path.dirname(hrstm_code.get_remote_exec_path())+\"/hrstm_tips/\"\n",
    "            pdos_list = [path+\"tip_coeffs.tar.gz\"]\n",
    "            tip_pos = [ppmQK+\"PPpos\", ppmQK+\"PPdisp\"]\n",
    "        else: # Parametrized tip\n",
    "            pdos_list = [str(stip_ipw.value), str(pytip_ipw.value), \n",
    "                         str(pztip_ipw.value), str(pxtip_ipw.value)]\n",
    "            tip_pos = ppmQK+\"PPdisp\"\n",
    "\n",
    "        # HRSTM parameters\n",
    "        hrstm_params_dict = {\n",
    "            '--output':          'hrstm',\n",
    "            '--voltages':        [str(val) for val in np.round(np.arange(\n",
    "                volmin_ipw.value,\n",
    "                volmax_ipw.value+volstep_ipw.value, \n",
    "                volstep_ipw.value), \n",
    "                len(str(volstep_ipw.min).split('.')[-1])).tolist()],\n",
    "            # Sample information\n",
    "            '--cp2k_input_file': parent_dir+'aiida.inp',\n",
    "            '--basis_set_file':  parent_dir+'BASIS_MOLOPT',\n",
    "            '--xyz_file':        parent_dir+'geom.xyz',\n",
    "            '--wfn_file':        parent_dir+'aiida-RESTART.wfn',\n",
    "            '--hartree_file':    parent_dir+'aiida-HART-v_hartree-1_0.cube',\n",
    "            '--emin':            str(volmin_ipw.value-2.0*fwhm_ipw.value),\n",
    "            '--emax':            str(volmax_ipw.value+2.0*fwhm_ipw.value),\n",
    "            '--fwhm_sam':        str(fwhm_ipw.value),\n",
    "            '--dx_wfn':          str(wfnstep_ipw.value),\n",
    "            '--extrap_dist':     str(extrap_ipw.value),\n",
    "            '--wn':              str(workfun_ipw.value),\n",
    "            # Tip information\n",
    "            '--pdos_list':       pdos_list,\n",
    "            '--orbs_tip':        str(orbstip_ipw.value),\n",
    "            '--tip_shift':       str(ppm_params_dict[\"rC0\"][2]+ppm_params_dict[\"rO0\"][2]),\n",
    "            '--tip_pos_files':   tip_pos,\n",
    "            '--fwhm_tip':        str(fwhmtip_ipw.value),\n",
    "        }\n",
    "        if rotate_ipw.value:\n",
    "            hrstm_params_dict['--rotate'] = ''\n",
    "        hrstm_params = Dict(dict=hrstm_params_dict)\n",
    "   \n",
    "        ## Try to access the restart-wfn file ##\n",
    "        selected_comp = cp2k_code.computer\n",
    "        try:\n",
    "            wfn_file_path = common.find_struct_wf(struct, selected_comp, file_exists_func)\n",
    "        # TODO this should catch a specific exception, not just any!\n",
    "        except:\n",
    "            wfn_file_path = \"\"\n",
    "        if wfn_file_path == \"\":\n",
    "            print(\"Didn't find any accessible .wfn file.\")\n",
    "        \n",
    "        #node = submit(\n",
    "        outputs, node = run_get_node(\n",
    "            HRSTMWorkChain,\n",
    "            cp2k_code=cp2k_code,\n",
    "            structure=struct,\n",
    "            cell=cell,\n",
    "            wfn_file_path=Str(wfn_file_path),\n",
    "            elpa_switch=Bool(elpa_check.value),\n",
    "            ppm_code=ppm_code,\n",
    "            ppm_params=ppm_params,\n",
    "            hrstm_code=hrstm_code,\n",
    "            hrstm_params=hrstm_params\n",
    "        )\n",
    "        # set calculation version; also used to determine post-processing\n",
    "        node.set_extra(\"version\", 0)\n",
    "\n",
    "btn_submit = ipw.Button(description=\"Submit\")\n",
    "btn_submit.on_click(on_submit)\n",
    "submit_out = ipw.Output()\n",
    "display(btn_submit, submit_out)"
   ]
  },
  {
   "cell_type": "code",
   "execution_count": null,
   "metadata": {},
   "outputs": [],
   "source": []
  }
 ],
 "metadata": {
  "kernelspec": {
   "display_name": "Python 3",
   "language": "python",
   "name": "python3"
  },
  "language_info": {
   "codemirror_mode": {
    "name": "ipython",
    "version": 3
   },
   "file_extension": ".py",
   "mimetype": "text/x-python",
   "name": "python",
   "nbconvert_exporter": "python",
   "pygments_lexer": "ipython3",
   "version": "3.6.8"
  }
 },
 "nbformat": 4,
 "nbformat_minor": 2
}
