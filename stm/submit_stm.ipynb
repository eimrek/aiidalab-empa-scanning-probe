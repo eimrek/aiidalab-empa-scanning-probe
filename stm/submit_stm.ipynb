{
 "cells": [
  {
   "cell_type": "code",
   "execution_count": 1,
   "metadata": {},
   "outputs": [
    {
     "data": {
      "application/json": {
       "current_state": "Loaded AiiDA DB environment."
      },
      "text/html": [
       "<p>Loaded AiiDA DB environment.</p>"
      ],
      "text/latex": [
       "Loaded AiiDA DB environment.\n"
      ],
      "text/plain": [
       "Loaded AiiDA DB environment.\n"
      ]
     },
     "execution_count": 1,
     "metadata": {},
     "output_type": "execute_result"
    }
   ],
   "source": [
    "%aiida"
   ]
  },
  {
   "cell_type": "code",
   "execution_count": 2,
   "metadata": {},
   "outputs": [
    {
     "data": {
      "application/vnd.jupyter.widget-view+json": {
       "model_id": "bf19a025973d46679978ba2051f30a89",
       "version_major": 2,
       "version_minor": 0
      },
      "text/plain": [
       "_ColormakerRegistry()"
      ]
     },
     "metadata": {},
     "output_type": "display_data"
    }
   ],
   "source": [
    "from aiida_cp2k.calculations import Cp2kCalculation\n",
    "\n",
    "from aiida.orm import ArrayData\n",
    "from aiida.engine import submit\n",
    "\n",
    "from aiidalab_widgets_base import CodeDropdown, SubmitButtonWidget, MetadataWidget, StructureBrowserWidget\n",
    "from aiidalab_widgets_base import ComputerDropdown\n",
    "\n",
    "import ase\n",
    "import ase.io\n",
    "import numpy as np\n",
    "import nglview\n",
    "from copy import deepcopy\n",
    "from pprint import pprint\n",
    "\n",
    "import ipywidgets as ipw\n",
    "from IPython.display import display, clear_output, HTML\n",
    "\n",
    "from apps.scanning_probe.stm.stm_workchain import STMWorkChain\n",
    "from apps.scanning_probe import common\n",
    "\n",
    "\n",
    "from apps.surfaces.widgets import analyze_structure"
   ]
  },
  {
   "cell_type": "markdown",
   "metadata": {},
   "source": [
    "# Select structure"
   ]
  },
  {
   "cell_type": "code",
   "execution_count": 3,
   "metadata": {},
   "outputs": [
    {
     "data": {
      "application/vnd.jupyter.widget-view+json": {
       "model_id": "992de8b1190944c48b7667504e94b38e",
       "version_major": 2,
       "version_minor": 0
      },
      "text/plain": [
       "VBox(children=(StructureBrowserWidget(children=(VBox(children=(VBox(children=(HTML(value='<p>Select the date r…"
      ]
     },
     "metadata": {},
     "output_type": "display_data"
    }
   ],
   "source": [
    "atoms = None\n",
    "slab_analyzed = None\n",
    "\n",
    "def on_struct_change(c):\n",
    "    global atoms, slab_analyzed\n",
    "    structure = struct_browser.results.value\n",
    "    if structure:\n",
    "        atoms = structure.get_ase()\n",
    "        atoms.pbc = [1, 1, 1]\n",
    "        \n",
    "        unobserve_cell_text()\n",
    "        cell_x_text.value = atoms.cell[0,0]\n",
    "        cell_y_text.value = atoms.cell[1,1]\n",
    "        cell_z_text.value = atoms.cell[2,2]\n",
    "        observe_cell_text()\n",
    "        \n",
    "        slab_analyzed = analyze_structure.analyze(atoms)\n",
    "        \n",
    "        update_view(atoms, slab_analyzed)\n",
    "        \n",
    "def on_cell_change(c):\n",
    "    global atoms\n",
    "    atoms.cell = np.diag(np.array([\n",
    "        cell_x_text.value,\n",
    "        cell_y_text.value,\n",
    "        cell_z_text.value\n",
    "    ]))\n",
    "    atoms.center()\n",
    "    update_view(atoms, slab_analyzed)\n",
    "    \n",
    "def observe_cell_text():\n",
    "    cell_x_text.observe(on_cell_change, names='value')\n",
    "    cell_y_text.observe(on_cell_change, names='value')\n",
    "    cell_z_text.observe(on_cell_change, names='value')\n",
    "    \n",
    "def unobserve_cell_text():\n",
    "    cell_x_text.unobserve(on_cell_change, names='value')\n",
    "    cell_y_text.unobserve(on_cell_change, names='value')\n",
    "    cell_z_text.unobserve(on_cell_change, names='value')\n",
    "\n",
    "struct_browser = StructureBrowserWidget()\n",
    "struct_browser.results.observe(on_struct_change, names='value')\n",
    "\n",
    "viewer = nglview.NGLWidget()\n",
    "clear_output()\n",
    "\n",
    "cell_x_text = ipw.FloatText(description='cell x', value=0.0)\n",
    "cell_y_text = ipw.FloatText(description='cell y', value=0.0)\n",
    "cell_z_text = ipw.FloatText(description='cell z', value=0.0)\n",
    "\n",
    "observe_cell_text()\n",
    "\n",
    "display(ipw.VBox([struct_browser, viewer, cell_x_text, cell_y_text, cell_z_text]))\n",
    "\n",
    "def update_view(atoms, slab_analyzed):\n",
    "    \n",
    "    details = slab_analyzed\n",
    "    \n",
    "    # delete all old components\n",
    "    while hasattr(viewer, \"component_0\"):\n",
    "        viewer.component_0.clear_representations()\n",
    "        cid = viewer.component_0.id\n",
    "        viewer.remove_component(cid)\n",
    "    \n",
    "    if atoms:\n",
    "        \n",
    "        mol_inds = [item for sublist in details['all_molecules'] for item in sublist]\n",
    "        rest_inds = details['slabatoms']+details['bottom_H']+details['adatoms'] +details['unclassified']\n",
    "        \n",
    "        \n",
    "        if len(mol_inds) == 0:\n",
    "            molecules_ase = ase.Atoms()\n",
    "        else:\n",
    "            molecules_ase = atoms[mol_inds]\n",
    "            \n",
    "        if len(rest_inds) == 0:\n",
    "            rest_ase = ase.Atoms()\n",
    "        else:\n",
    "            rest_ase = atoms[rest_inds]\n",
    "        \n",
    "        # component 0: Molecule\n",
    "        viewer.add_component(nglview.ASEStructure(molecules_ase), default_representation=False)\n",
    "        #viewer.add_ball_and_stick(aspectRatio=1.8, radius=0.25, opacity=1.0, component=0)\n",
    "        viewer.add_ball_and_stick(aspectRatio=1.5, scale=2.0, opacity=1.0, component=0)\n",
    "        \n",
    "        # component 1: Everything else\n",
    "        viewer.add_component(nglview.ASEStructure(rest_ase), default_representation=False)\n",
    "        viewer.add_ball_and_stick(aspectRatio=10.0, opacity=1.0, component=1)\n",
    "        \n",
    "        viewer.add_unitcell()\n",
    "        viewer.center()\n",
    "        \n",
    "        # Orient camera to look from positive z\n",
    "        cell_z = atoms.cell[2, 2]\n",
    "        com = atoms.get_center_of_mass()\n",
    "        def_orientation = viewer._camera_orientation\n",
    "        top_z_orientation = [1.0, 0.0, 0.0, 0,\n",
    "                             0.0, 1.0, 0.0, 0,\n",
    "                             0.0, 0.0, -np.max([cell_z, 30.0]) , 0,\n",
    "                             -com[0], -com[1], -com[2], 1]\n",
    "        viewer._set_camera_orientation(top_z_orientation)\n",
    "        #viewer.camera = 'orthographic'"
   ]
  },
  {
   "cell_type": "markdown",
   "metadata": {},
   "source": [
    "# Select computer and codes"
   ]
  },
  {
   "cell_type": "code",
   "execution_count": 4,
   "metadata": {},
   "outputs": [
    {
     "data": {
      "application/vnd.jupyter.widget-view+json": {
       "model_id": "988e9451011b41f7b3d825663063632c",
       "version_major": 2,
       "version_minor": 0
      },
      "text/plain": [
       "ComputerDropdown(children=(HBox(children=(Dropdown(description='Select computer:', options={'localhost': <Comp…"
      ]
     },
     "metadata": {},
     "output_type": "display_data"
    },
    {
     "data": {
      "application/vnd.jupyter.widget-view+json": {
       "model_id": "a70132e319e94e999a51de6f64f85fdc",
       "version_major": 2,
       "version_minor": 0
      },
      "text/plain": [
       "Dropdown(description='Cp2k code', options=('cp2k',), value='cp2k')"
      ]
     },
     "metadata": {},
     "output_type": "display_data"
    },
    {
     "data": {
      "application/vnd.jupyter.widget-view+json": {
       "model_id": "40a99b5f534c44b58a4bcff68f3feacb",
       "version_major": 2,
       "version_minor": 0
      },
      "text/plain": [
       "Dropdown(description='STM code', options=(), value=None)"
      ]
     },
     "metadata": {},
     "output_type": "display_data"
    },
    {
     "data": {
      "application/vnd.jupyter.widget-view+json": {
       "model_id": "ed78b012f85745798c396a259b7c2de0",
       "version_major": 2,
       "version_minor": 0
      },
      "text/plain": [
       "Checkbox(value=True, description='use ELPA')"
      ]
     },
     "metadata": {},
     "output_type": "display_data"
    }
   ],
   "source": [
    "computer_drop = ComputerDropdown()\n",
    "\n",
    "def comp_plugin_codes(computer_name, plugin_name):\n",
    "    qb = QueryBuilder()\n",
    "    qb.append(Computer, project='name', tag='computer')\n",
    "    qb.append(Code, project='*', with_computer='computer', filters={\n",
    "        'attributes.input_plugin': plugin_name,\n",
    "        'or': [{'extras': {'!has_key': 'hidden'}}, {'extras.hidden': False}]\n",
    "    })\n",
    "    qb.order_by({Code: {'id': 'desc'}})\n",
    "    codes = qb.all()\n",
    "    sel_codes = []\n",
    "    for code in codes:\n",
    "        if code[0] == computer_name:\n",
    "            sel_codes.append(code[1])\n",
    "    return sel_codes\n",
    "\n",
    "def on_computer_change(c):\n",
    "    global cp2k_codes, stm_codes\n",
    "    cp2k_codes = comp_plugin_codes(computer_drop.selected_computer.name, 'cp2k')\n",
    "    stm_codes = comp_plugin_codes(computer_drop.selected_computer.name, 'spm.stm')\n",
    "    \n",
    "    drop_cp2k.options = [c.label for c in cp2k_codes]\n",
    "    drop_stm.options = [c.label for c in stm_codes]\n",
    "    \n",
    "    \n",
    "computer_drop._dropdown.observe(on_computer_change)\n",
    "\n",
    "drop_cp2k = ipw.Dropdown(description=\"Cp2k code\")\n",
    "\n",
    "drop_stm = ipw.Dropdown(description=\"STM code\")\n",
    "\n",
    "on_computer_change(0)\n",
    "\n",
    "elpa_check = ipw.Checkbox(\n",
    "    value=True,\n",
    "    description='use ELPA',\n",
    "    disabled=False\n",
    ")\n",
    "\n",
    "display(computer_drop, drop_cp2k, drop_stm, elpa_check)"
   ]
  },
  {
   "cell_type": "markdown",
   "metadata": {},
   "source": [
    "# Scanning tunnelling microscopy parameters"
   ]
  },
  {
   "cell_type": "code",
   "execution_count": 5,
   "metadata": {},
   "outputs": [
    {
     "data": {
      "application/vnd.jupyter.widget-view+json": {
       "model_id": "7f194c4d90fd407fb5cc9995d0d1b0f3",
       "version_major": 2,
       "version_minor": 0
      },
      "text/plain": [
       "FloatRangeSlider(value=(-2.0, 2.0), continuous_update=False, description='Emin, Emax (eV):', layout=Layout(wid…"
      ]
     },
     "metadata": {},
     "output_type": "display_data"
    },
    {
     "data": {
      "application/vnd.jupyter.widget-view+json": {
       "model_id": "2060020bbe4549b4bc03b1e1cd610b17",
       "version_major": 2,
       "version_minor": 0
      },
      "text/plain": [
       "BoundedFloatText(value=0.05, description='dE (eV)', layout=Layout(width='25%'), max=1.0, min=0.01, step=0.01, …"
      ]
     },
     "metadata": {},
     "output_type": "display_data"
    },
    {
     "data": {
      "application/vnd.jupyter.widget-view+json": {
       "model_id": "95ae2e28cbe240acb017f1b87240cefc",
       "version_major": 2,
       "version_minor": 0
      },
      "text/plain": [
       "Text(value='0.10', description='FWHMs (eV)', layout=Layout(width='50%'), style=DescriptionStyle(description_wi…"
      ]
     },
     "metadata": {},
     "output_type": "display_data"
    },
    {
     "data": {
      "application/vnd.jupyter.widget-view+json": {
       "model_id": "c5a9f656eebf43f486b44b2f3a93684d",
       "version_major": 2,
       "version_minor": 0
      },
      "text/plain": [
       "BoundedFloatText(value=3.5, description='Extrap plane (ang)', layout=Layout(width='25%'), max=10.0, min=1.0, s…"
      ]
     },
     "metadata": {},
     "output_type": "display_data"
    },
    {
     "data": {
      "application/vnd.jupyter.widget-view+json": {
       "model_id": "462d6f5c9c6e4e959858d9b814634333",
       "version_major": 2,
       "version_minor": 0
      },
      "text/plain": [
       "Text(value='3.0 5.0', description='Const. H (ang)', layout=Layout(width='50%'), style=DescriptionStyle(descrip…"
      ]
     },
     "metadata": {},
     "output_type": "display_data"
    },
    {
     "data": {
      "application/vnd.jupyter.widget-view+json": {
       "model_id": "a740643b9caa4ed6adcc08fc6185695e",
       "version_major": 2,
       "version_minor": 0
      },
      "text/plain": [
       "Text(value='1e-7', description='Const. cur. (isoval)', layout=Layout(width='50%'), style=DescriptionStyle(desc…"
      ]
     },
     "metadata": {},
     "output_type": "display_data"
    }
   ],
   "source": [
    "style = {'description_width': '140px'}\n",
    "layout = {'width': '50%'}\n",
    "layout_small = {'width': '25%'}\n",
    "\n",
    "elim_float_slider = ipw.FloatRangeSlider(\n",
    "    value=[-2.0, 2.0],\n",
    "    min=-4.0,\n",
    "    max=4.0,\n",
    "    step=0.1,\n",
    "    description='Emin, Emax (eV):',\n",
    "    disabled=False,\n",
    "    continuous_update=False,\n",
    "    orientation='horizontal',\n",
    "    readout=True,\n",
    "    readout_format='.1f',\n",
    "    style=style, layout=layout)\n",
    "\n",
    "de_floattext = ipw.BoundedFloatText(\n",
    "                        description='dE (eV)',\n",
    "                        min=0.01,\n",
    "                        max=1.00,\n",
    "                        step=0.01,\n",
    "                        value=0.05,\n",
    "                        style=style, layout=layout_small)\n",
    "\n",
    "fwhms_text = ipw.Text(\n",
    "                  description='FWHMs (eV)',\n",
    "                  value='0.10',\n",
    "                  style=style, layout=layout)\n",
    "\n",
    "extrap_plane_floattext = ipw.BoundedFloatText(\n",
    "                        description='Extrap plane (ang)',\n",
    "                        min=1.0,\n",
    "                        max=10.0,\n",
    "                        step=0.1,\n",
    "                        value=3.5,\n",
    "                        style=style, layout=layout_small)\n",
    "\n",
    "const_height_text = ipw.Text(description='Const. H (ang)',\n",
    "                              value='3.0 5.0',\n",
    "                              style=style, layout=layout)\n",
    "\n",
    "const_current_text = ipw.Text(description='Const. cur. (isoval)',\n",
    "                              value='1e-7',\n",
    "                              style=style, layout=layout)\n",
    "\n",
    "display(elim_float_slider, de_floattext, fwhms_text, extrap_plane_floattext, const_height_text, const_current_text)"
   ]
  },
  {
   "cell_type": "code",
   "execution_count": 6,
   "metadata": {},
   "outputs": [
    {
     "data": {
      "application/vnd.jupyter.widget-view+json": {
       "model_id": "946304f96456405fa972681064ea8e40",
       "version_major": 2,
       "version_minor": 0
      },
      "text/plain": [
       "Button(description='Submit', style=ButtonStyle())"
      ]
     },
     "metadata": {},
     "output_type": "display_data"
    },
    {
     "data": {
      "application/vnd.jupyter.widget-view+json": {
       "model_id": "ec6983697f0f461eb8ee73b902c0cb7e",
       "version_major": 2,
       "version_minor": 0
      },
      "text/plain": [
       "Output()"
      ]
     },
     "metadata": {},
     "output_type": "display_data"
    }
   ],
   "source": [
    "def file_exists_func(hostname, path):\n",
    "    # has to be defined in jupyter notebook because of !\n",
    "    file_exists = ! ssh {hostname} \"if [ -f {path} ]; then echo 1 ; else echo 0 ; fi\"\n",
    "    if file_exists[0] == '0':\n",
    "        return False\n",
    "    else:\n",
    "        return True\n",
    "\n",
    "def on_submit(b):\n",
    "    with submit_out:\n",
    "        clear_output()\n",
    "        if not struct_browser.results.value:\n",
    "            print(\"Please select a structure.\")\n",
    "            return\n",
    "        if not computer_drop.selected_computer:\n",
    "            print(\"Please select a computer.\")\n",
    "            return\n",
    "        \n",
    "        extrap_plane = extrap_plane_floattext.value\n",
    "        parent_dir = \"parent_calc_folder/\"\n",
    "        \n",
    "        energy_range_str = \"%.2f %.2f %.3f\" % (\n",
    "            elim_float_slider.value[0], elim_float_slider.value[1], de_floattext.value\n",
    "        )\n",
    "\n",
    "        stm_params = Dict(dict={\n",
    "            '--cp2k_input_file':    parent_dir+'aiida.inp',\n",
    "            '--basis_set_file':     parent_dir+'BASIS_MOLOPT',\n",
    "            '--xyz_file':           parent_dir+'geom.xyz',\n",
    "            '--wfn_file':           parent_dir+'aiida-RESTART.wfn',\n",
    "            '--hartree_file':       parent_dir+'aiida-HART-v_hartree-1_0.cube',\n",
    "            '--output_file':        'stm.npz',\n",
    "            '--eval_region':        ['G', 'G', 'G', 'G', 'n-2.0_C', 'p%.1f'%extrap_plane],\n",
    "            '--dx':                 '0.15',\n",
    "            '--eval_cutoff':        '14.0',\n",
    "            '--extrap_extent':      '5.0',\n",
    "            '--energy_range':       energy_range_str.split(),\n",
    "            '--heights':            const_height_text.value.split(),\n",
    "            '--isovalues':          const_current_text.value.split(),\n",
    "            '--fwhms':              fwhms_text.value.split(),\n",
    "        })\n",
    "        \n",
    "        cp2k_code = cp2k_codes[drop_cp2k.index]\n",
    "        stm_code = stm_codes[drop_stm.index]\n",
    "        \n",
    "        struct = struct_browser.results.value\n",
    "        \n",
    "        cell = ArrayData()\n",
    "        cell.set_array('cell', np.diag(atoms.cell))\n",
    "        \n",
    "        ## Try to access the restart-wfn file ##\n",
    "        selected_comp = cp2k_code.get_remote_computer()\n",
    "        try:\n",
    "            wfn_file_path = common.find_struct_wf(struct, selected_comp, file_exists_func)\n",
    "        except:\n",
    "            wfn_file_path = \"\"\n",
    "        if wfn_file_path == \"\":\n",
    "            print(\"Didn't find any accessible .wfn file.\")\n",
    "    \n",
    "        \n",
    "        outputs = submit(STMWorkChain,\n",
    "                 cp2k_code=cp2k_code,\n",
    "                 structure=struct,\n",
    "                 cell=cell,\n",
    "                 wfn_file_path=Str(wfn_file_path),\n",
    "                 elpa_switch=Bool(elpa_check.value),\n",
    "                 stm_code=stm_code,\n",
    "                 stm_params=stm_params\n",
    "                )\n",
    "                \n",
    "        print(outputs)\n",
    "\n",
    "btn_submit = ipw.Button(description=\"Submit\")\n",
    "btn_submit.on_click(on_submit)\n",
    "submit_out = ipw.Output()\n",
    "display(btn_submit, submit_out)"
   ]
  },
  {
   "cell_type": "code",
   "execution_count": null,
   "metadata": {},
   "outputs": [],
   "source": [
    "c = cp2k_codes[drop_cp2k.index]"
   ]
  },
  {
   "cell_type": "code",
   "execution_count": null,
   "metadata": {},
   "outputs": [],
   "source": [
    "c.get_remote_computer()"
   ]
  },
  {
   "cell_type": "code",
   "execution_count": null,
   "metadata": {},
   "outputs": [],
   "source": [
    "selected_comp = cp2k_codes[drop_cp2k.index].get_remote_computer()"
   ]
  },
  {
   "cell_type": "code",
   "execution_count": null,
   "metadata": {},
   "outputs": [],
   "source": [
    "wfn_file_path = find_struct_wf(struct, selected_comp, file_exists_func)"
   ]
  },
  {
   "cell_type": "code",
   "execution_count": null,
   "metadata": {},
   "outputs": [],
   "source": [
    "wfn_file_path"
   ]
  },
  {
   "cell_type": "code",
   "execution_count": null,
   "metadata": {},
   "outputs": [],
   "source": [
    "struct.get_extra()"
   ]
  },
  {
   "cell_type": "code",
   "execution_count": null,
   "metadata": {},
   "outputs": [],
   "source": [
    "struct.inputs"
   ]
  },
  {
   "cell_type": "code",
   "execution_count": null,
   "metadata": {},
   "outputs": [],
   "source": [
    "struct.creator"
   ]
  },
  {
   "cell_type": "code",
   "execution_count": null,
   "metadata": {},
   "outputs": [],
   "source": [
    "struct.creator"
   ]
  },
  {
   "cell_type": "code",
   "execution_count": null,
   "metadata": {},
   "outputs": [],
   "source": [
    "struct = load_node(398)"
   ]
  },
  {
   "cell_type": "code",
   "execution_count": null,
   "metadata": {},
   "outputs": [],
   "source": [
    "cp2k_calc = struct.creator"
   ]
  },
  {
   "cell_type": "code",
   "execution_count": null,
   "metadata": {},
   "outputs": [],
   "source": [
    "workchain = cp2k_calc.caller"
   ]
  },
  {
   "cell_type": "code",
   "execution_count": null,
   "metadata": {},
   "outputs": [],
   "source": [
    "workchain.caleld"
   ]
  },
  {
   "cell_type": "code",
   "execution_count": null,
   "metadata": {},
   "outputs": [],
   "source": [
    "cp2k_calc.computer"
   ]
  },
  {
   "cell_type": "code",
   "execution_count": null,
   "metadata": {},
   "outputs": [],
   "source": []
  },
  {
   "cell_type": "code",
   "execution_count": null,
   "metadata": {},
   "outputs": [],
   "source": [
    "c = a.get_incoming()"
   ]
  },
  {
   "cell_type": "code",
   "execution_count": null,
   "metadata": {},
   "outputs": [],
   "source": [
    "b.outputs.remote_folder.get_remote_path()"
   ]
  },
  {
   "cell_type": "code",
   "execution_count": null,
   "metadata": {},
   "outputs": [],
   "source": [
    "a.get_incoming()"
   ]
  },
  {
   "cell_type": "code",
   "execution_count": null,
   "metadata": {},
   "outputs": [],
   "source": [
    "b = a.creator"
   ]
  },
  {
   "cell_type": "code",
   "execution_count": null,
   "metadata": {},
   "outputs": [],
   "source": [
    "a.creator == None"
   ]
  },
  {
   "cell_type": "code",
   "execution_count": null,
   "metadata": {},
   "outputs": [],
   "source": [
    "b"
   ]
  },
  {
   "cell_type": "code",
   "execution_count": null,
   "metadata": {},
   "outputs": [],
   "source": [
    "ink_links = a.get_incoming()"
   ]
  },
  {
   "cell_type": "code",
   "execution_count": null,
   "metadata": {},
   "outputs": [],
   "source": [
    "ink_links."
   ]
  },
  {
   "cell_type": "code",
   "execution_count": null,
   "metadata": {},
   "outputs": [],
   "source": []
  }
 ],
 "metadata": {
  "kernelspec": {
   "display_name": "Python 3",
   "language": "python",
   "name": "python3"
  },
  "language_info": {
   "codemirror_mode": {
    "name": "ipython",
    "version": 3
   },
   "file_extension": ".py",
   "mimetype": "text/x-python",
   "name": "python",
   "nbconvert_exporter": "python",
   "pygments_lexer": "ipython3",
   "version": "3.6.8"
  }
 },
 "nbformat": 4,
 "nbformat_minor": 2
}
