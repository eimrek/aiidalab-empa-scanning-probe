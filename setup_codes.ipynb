{
 "cells": [
  {
   "cell_type": "code",
   "execution_count": null,
   "metadata": {},
   "outputs": [],
   "source": [
    "%aiida\n",
    "from aiida import load_dbenv, is_dbenv_loaded\n",
    "from aiida.backends import settings\n",
    "if not is_dbenv_loaded():\n",
    "    load_dbenv(profile=settings.AIIDADB_PROFILE)\n",
    "    \n",
    "from aiida.orm.querybuilder import QueryBuilder\n",
    "from aiida.orm import load_node, Code, Computer\n",
    "from aiida.common.exceptions import NotExistent, MultipleObjectsError\n",
    "\n",
    "\n",
    "import ipywidgets as ipw\n",
    "from IPython.display import display, clear_output"
   ]
  },
  {
   "cell_type": "markdown",
   "metadata": {},
   "source": [
    "# Install and/or update plugins"
   ]
  },
  {
   "cell_type": "code",
   "execution_count": null,
   "metadata": {},
   "outputs": [],
   "source": [
    "def on_setup_plugins(b):\n",
    "    with setup_plugin_output:\n",
    "        clear_output()\n",
    "        ! pip install --user -e ./plugins/\n",
    "        ! reentry scan -r aiida\n",
    "\n",
    "setup_plugin_output = ipw.Output()\n",
    "btn_setup_plugins = ipw.Button(description=\"Install spm plugins\")\n",
    "btn_setup_plugins.on_click(on_setup_plugins)\n",
    "display(btn_setup_plugins, setup_plugin_output)"
   ]
  },
  {
   "cell_type": "code",
   "execution_count": null,
   "metadata": {},
   "outputs": [],
   "source": [
    "def on_list_plugins(b):\n",
    "    with list_plugin_output:\n",
    "        ! verdi calculation plugins\n",
    "\n",
    "list_plugin_output = ipw.Output()\n",
    "btn_list_plugins = ipw.Button(description=\"List all plugins\")\n",
    "btn_list_plugins.on_click(on_list_plugins)\n",
    "display(btn_list_plugins, list_plugin_output)"
   ]
  },
  {
   "cell_type": "markdown",
   "metadata": {},
   "source": [
    "# Setup codes"
   ]
  },
  {
   "cell_type": "code",
   "execution_count": null,
   "metadata": {},
   "outputs": [],
   "source": [
    "## -------------------------------------------------------\n",
    "## List computers\n",
    "qb = QueryBuilder()\n",
    "qb.append(Computer, filters={'enabled': True})\n",
    "all_computers = qb.all()\n",
    "\n",
    "computer_selection = [comp[0].get_name() for comp in all_computers]\n",
    "\n",
    "style = {'description_width': '120px'}\n",
    "layout = {'width': '70%'}\n",
    "drop_computer = ipw.Dropdown(description=\"Computer\",\n",
    "                             options=['']+computer_selection)\n",
    "\n",
    "def show_codes(c):\n",
    "    qb = QueryBuilder()\n",
    "    qb.append(Computer, filters={'enabled': True}, project=['name'], tag='computer')\n",
    "    qb.append(Code, project=['*'], has_computer='computer')\n",
    "    with code_output:\n",
    "        clear_output()\n",
    "        print(\"Codes on \" + drop_computer.value + \":\")\n",
    "        for e in qb.all():\n",
    "            if e[0] == drop_computer.value:\n",
    "                print(e[1])\n",
    "                \n",
    "code_output = ipw.Output()\n",
    "\n",
    "drop_computer.observe(show_codes, names='value')\n",
    "\n",
    "show_codes(0)\n",
    "\n",
    "display(ipw.VBox([drop_computer, code_output]))"
   ]
  },
  {
   "cell_type": "markdown",
   "metadata": {},
   "source": [
    "# STM codes\n",
    "\n",
    "Set the path of the remote computer to install the external scripts to. Needs to be a location available to the calculation nodes (e.g. not `/project/` on Piz-Daint). "
   ]
  },
  {
   "cell_type": "code",
   "execution_count": null,
   "metadata": {},
   "outputs": [],
   "source": [
    "def retrive_scripts(b):\n",
    "    \n",
    "    global version_id, code_dir_path\n",
    "    \n",
    "    commit_hash = ! git ls-remote \"https://github.com/eimrek/atomistic_tools.git\"\n",
    "    version_id = commit_hash[0][:7]\n",
    "\n",
    "    code_dir_name = \"at_\"+version_id\n",
    "\n",
    "    code_remote_path = install_path_inp.value\n",
    "\n",
    "    code_dir_path = code_remote_path+\"/\"+code_dir_name\n",
    "\n",
    "    computer = Computer.get(drop_computer.value)\n",
    "\n",
    "    with retrieve_output:\n",
    "        \n",
    "        clear_output()\n",
    "\n",
    "        # ssh key needs to be set\n",
    "        ! ssh {computer.hostname} \"wget https://github.com/eimrek/atomistic_tools/archive/master.zip -O {code_remote_path}/{code_dir_name}.zip\"\n",
    "        ! ssh {computer.hostname} \"cd {code_remote_path} && unzip -o {code_dir_name}.zip && rm -rf {code_dir_name} {code_dir_name}.zip && mv atomistic_tools-master {code_dir_name}\"\n",
    "        ! ssh {computer.hostname} \"cd {code_remote_path}/{code_dir_name} && chmod u+x *\"\n",
    "\n",
    "code_dir_path = None\n",
    "version_id = None\n",
    "\n",
    "retrieve_output = ipw.Output()\n",
    "\n",
    "retrieve_button = ipw.Button(description=\"Retrieve scripts\")\n",
    "\n",
    "retrieve_button.on_click(retrive_scripts)\n",
    "\n",
    "install_path_inp = ipw.Text(description=\"Install path:\", value=\"/users/username/aiida-soft\", layout=layout, style=style)\n",
    "\n",
    "display(install_path_inp, retrieve_button, retrieve_output)\n"
   ]
  },
  {
   "cell_type": "markdown",
   "metadata": {},
   "source": [
    "#### Scanning tunnelling microscopy and spectroscopy images"
   ]
  },
  {
   "cell_type": "markdown",
   "metadata": {},
   "source": [
    "For the STM script, `python 3` instance with `mpi4py` and `ase` is needed.\n",
    "\n",
    "Please provide the correct bash commands to make this available (this text will be prepended to each slurm script)."
   ]
  },
  {
   "cell_type": "code",
   "execution_count": null,
   "metadata": {},
   "outputs": [],
   "source": [
    "stm_prepend_text = ipw.Textarea(description=\"Prepend text:\",\n",
    "             layout = {'width': '70%'},\n",
    "             value =\n",
    "                \"module load cray-python/3.6.1.1\\n\" +\n",
    "                \"export PYTHONPATH=$PYTHONPATH:\\\"/users/keimre/soft/ase\\\"\\n\"\n",
    "            )\n",
    "\n",
    "display(stm_prepend_text)"
   ]
  },
  {
   "cell_type": "code",
   "execution_count": null,
   "metadata": {},
   "outputs": [],
   "source": [
    "def setup_stm():\n",
    "    \n",
    "    # Eval mol. orbitals\n",
    "    # Python with MPI support and ASE\n",
    "    prepend_text  = \"### code prepend_text start ###\\n\"\n",
    "    prepend_text += stm_prepend_text.value\n",
    "    prepend_text += \"### code prepend_text end ###\\n\"\n",
    "\n",
    "    code_label = \"py_stm_\"+version_id\n",
    "\n",
    "    code_full_name = code_label + \"@\" + drop_computer.value\n",
    "\n",
    "    try:\n",
    "        Code.get_from_string(code_full_name)\n",
    "    except (NotExistent, MultipleObjectsError):            \n",
    "        code = Code(remote_computer_exec=(Computer.get(drop_computer.value), code_dir_path + \"/stm_sts_from_wfn.py\"))\n",
    "        code.label = code_label\n",
    "        code.description = \"Python code to calculate STM and STS\"\n",
    "        code.set_input_plugin_name(\"spm.stm\")\n",
    "        code.set_prepend_text(prepend_text)\n",
    "        code.set_append_text(\"\")\n",
    "        code.store()\n",
    "        ! verdi code show \"{code_full_name}\"\n",
    "    else:\n",
    "        print(\"Code '{}' already existent\".format(code_full_name))\n",
    "        \n",
    "def on_stm_setup_click(b):\n",
    "    with stm_setup_out:\n",
    "        clear_output()\n",
    "        setup_stm()\n",
    "    \n",
    "stm_setup_out = ipw.Output()\n",
    "\n",
    "stm_setup_btn = ipw.Button(description=\"Setup stm\")\n",
    "stm_setup_btn.on_click(on_stm_setup_click)\n",
    "\n",
    "display(stm_setup_btn, stm_setup_out)"
   ]
  },
  {
   "cell_type": "markdown",
   "metadata": {},
   "source": [
    "#### Orbital overlap"
   ]
  },
  {
   "cell_type": "markdown",
   "metadata": {},
   "source": [
    "`python 3` instance with `mpi4py` and `ase` is needed.\n",
    "\n",
    "Please provide the correct bash commands to make this available (this text will be prepended to each slurm script)."
   ]
  },
  {
   "cell_type": "code",
   "execution_count": null,
   "metadata": {},
   "outputs": [],
   "source": [
    "overlap_prepend_text = ipw.Textarea(description=\"Prepend text:\",\n",
    "             layout = {'width': '70%'},\n",
    "             value =\n",
    "                \"module load cray-python/3.6.1.1\\n\" +\n",
    "                \"export PYTHONPATH=$PYTHONPATH:\\\"/users/keimre/soft/ase\\\"\\n\"\n",
    "            )\n",
    "\n",
    "display(overlap_prepend_text)"
   ]
  },
  {
   "cell_type": "code",
   "execution_count": null,
   "metadata": {},
   "outputs": [],
   "source": [
    "def setup_overlap():\n",
    "    \n",
    "    prepend_text  = \"### code prepend_text start ###\\n\"\n",
    "    prepend_text += overlap_prepend_text.value\n",
    "    prepend_text += \"### code prepend_text end ###\\n\"\n",
    "\n",
    "    code_label = \"py_overlap_\"+version_id\n",
    "\n",
    "    code_full_name = code_label + \"@\" + drop_computer.value\n",
    "\n",
    "    try:\n",
    "        Code.get_from_string(code_full_name)\n",
    "    except (NotExistent, MultipleObjectsError):            \n",
    "        code = Code(remote_computer_exec=(Computer.get(drop_computer.value), code_dir_path + \"/overlap_from_wfns.py\"))\n",
    "        code.label = code_label\n",
    "        code.description = \"Python code to evaluate overlaps between orbitals\"\n",
    "        code.set_input_plugin_name(\"spm.overlap\")\n",
    "        code.set_prepend_text(prepend_text)\n",
    "        code.set_append_text(\"\")\n",
    "        code.store()\n",
    "        ! verdi code show \"{code_full_name}\"\n",
    "    else:\n",
    "        print(\"Code '{}' already existent\".format(code_full_name))\n",
    "        \n",
    "def on_overlap_setup_click(b):\n",
    "    with overlap_setup_out:\n",
    "        clear_output()\n",
    "        setup_overlap()\n",
    "    \n",
    "overlap_setup_out = ipw.Output()\n",
    "\n",
    "overlap_setup_btn = ipw.Button(description=\"Setup overlap\")\n",
    "overlap_setup_btn.on_click(on_overlap_setup_click)\n",
    "\n",
    "display(overlap_setup_btn, overlap_setup_out)"
   ]
  },
  {
   "cell_type": "markdown",
   "metadata": {},
   "source": [
    "# AFM codes\n",
    "\n",
    "Set the path of the remote computer to install the external scripts to. Needs to be a location available to the calculation nodes (e.g. not `/project/` on Piz-Daint). "
   ]
  },
  {
   "cell_type": "code",
   "execution_count": null,
   "metadata": {},
   "outputs": [],
   "source": [
    "afm_pp_code_dir_path = None\n",
    "afm_2pp_code_dir_path = None\n",
    "sha_pp = \"b5f22ca55ea329c8d49aa37338eab0f8f8e21583\"\n",
    "sha_2pp = \"a5f77cc74b238b7ed07ba9a1e8228e70231289de\"\n",
    "\n",
    "def retrive_afm_scripts(b):\n",
    "    \n",
    "    global afm_pp_code_dir_path, afm_2pp_code_dir_path\n",
    "\n",
    "    code_dir_name_pp = \"ProbeParticleModel_pp\"\n",
    "    code_dir_name_2pp = \"ProbeParticleModel_2pp\"\n",
    "\n",
    "    code_remote_path = afm_install_path.value\n",
    "\n",
    "    afm_pp_code_dir_path = code_remote_path+\"/\"+code_dir_name_pp\n",
    "    afm_2pp_code_dir_path = code_remote_path+\"/\"+code_dir_name_2pp\n",
    "\n",
    "    computer = Computer.get(drop_computer.value)\n",
    "    \n",
    "    with afm_retrieve_output:\n",
    "        \n",
    "        clear_output()\n",
    "\n",
    "        # ssh key needs to be set\n",
    "        ! ssh {computer.hostname} \"wget https://github.com/ProkopHapala/ProbeParticleModel/archive/{sha_pp}.zip -O {code_remote_path}/{code_dir_name_pp}.zip\"\n",
    "        ! ssh {computer.hostname} \"cd {code_remote_path} && unzip -o {code_dir_name_pp}.zip && rm -rf {code_dir_name_pp} {code_dir_name_pp}.zip && mv ProbeParticleModel-{sha_pp} {code_dir_name_pp}\"\n",
    "        \n",
    "        ! ssh {computer.hostname} \"wget https://github.com/ProkopHapala/ProbeParticleModel/archive/{sha_2pp}.zip -O {code_remote_path}/{code_dir_name_2pp}.zip\"\n",
    "        ! ssh {computer.hostname} \"cd {code_remote_path} && unzip -o {code_dir_name_2pp}.zip && rm -rf {code_dir_name_2pp} {code_dir_name_2pp}.zip && mv ProbeParticleModel-{sha_2pp} {code_dir_name_2pp}\"\n",
    "        \n",
    "        # create a custom bash scripts\n",
    "        ! scp \"./afm/run_afm.sh\" {computer.hostname}:{afm_pp_code_dir_path}\n",
    "        ! scp \"./afm/run_afm.sh\" {computer.hostname}:{afm_2pp_code_dir_path}\n",
    "            \n",
    "        ! ssh {computer.hostname} \"chmod -R 755 {afm_pp_code_dir_path}\"\n",
    "        ! ssh {computer.hostname} \"chmod -R 755 {afm_2pp_code_dir_path}\"\n",
    "\n",
    "afm_retrieve_output = ipw.Output()\n",
    "\n",
    "afm_retrieve_button = ipw.Button(description=\"Retrieve scripts\")\n",
    "\n",
    "afm_retrieve_button.on_click(retrive_afm_scripts)\n",
    "\n",
    "afm_install_path = ipw.Text(description=\"Install path:\", value=\"/users/username/aiida-soft\", layout=layout, style=style)\n",
    "\n",
    "display(afm_install_path, afm_retrieve_button, afm_retrieve_output)\n"
   ]
  },
  {
   "cell_type": "markdown",
   "metadata": {},
   "source": [
    "For the AFM codes, `python 2` instance with `matplotlib` is needed.\n",
    "\n",
    "Please provide the correct bash commands to make this available (this text will be prepended to each slurm script)."
   ]
  },
  {
   "cell_type": "code",
   "execution_count": null,
   "metadata": {},
   "outputs": [],
   "source": [
    "afm_prepend_text = ipw.Textarea(description=\"Prepend text:\",\n",
    "             layout = {'width': '70%'},\n",
    "             value =\n",
    "                \"export PATH='/users/keimre/soft/miniconda3/envs/py27/bin':$PATH\\n\"\n",
    "            )\n",
    "\n",
    "display(afm_prepend_text)"
   ]
  },
  {
   "cell_type": "code",
   "execution_count": null,
   "metadata": {},
   "outputs": [],
   "source": [
    "def setup_afm_code(label, code_dir_path, description, sha):\n",
    "    \n",
    "    prepend_text  = \"### code prepend_text start ###\\n\"\n",
    "    prepend_text += afm_prepend_text.value\n",
    "    prepend_text += \"### code prepend_text end ###\\n\"\n",
    "\n",
    "    code_label = label+sha[:6]\n",
    "\n",
    "    code_full_name = code_label + \"@\" + drop_computer.value\n",
    "\n",
    "    try:\n",
    "        Code.get_from_string(code_full_name)\n",
    "    except (NotExistent, MultipleObjectsError):            \n",
    "        code = Code(remote_computer_exec=(Computer.get(drop_computer.value), code_dir_path + \"/run_afm.sh\"))\n",
    "        code.label = code_label\n",
    "        code.description = description\n",
    "        code.set_input_plugin_name(\"spm.afm\")\n",
    "        code.set_prepend_text(prepend_text)\n",
    "        code.set_append_text(\"\")\n",
    "        code.store()\n",
    "        ! verdi code show \"{code_full_name}\"\n",
    "    else:\n",
    "        print(\"Code '{}' already existent\".format(code_full_name))\n",
    "        \n",
    "def on_afm_setup_click(b):\n",
    "    with afm_setup_out:\n",
    "        clear_output()\n",
    "        setup_afm_code(\"py_afm_pp_\", afm_pp_code_dir_path, \"Python code for ProbeParticle AFM simulation\", sha_pp)\n",
    "        setup_afm_code(\"py_afm_2pp_\", afm_2pp_code_dir_path, \"Python code for 2 point ProbeParticle AFM simulation\", sha_2pp)\n",
    "    \n",
    "afm_setup_out = ipw.Output()\n",
    "\n",
    "afm_setup_btn = ipw.Button(description=\"Setup afm codes\")\n",
    "afm_setup_btn.on_click(on_afm_setup_click)\n",
    "\n",
    "display(afm_setup_btn, afm_setup_out)"
   ]
  },
  {
   "cell_type": "markdown",
   "metadata": {},
   "source": [
    "# HR-STM codes\n",
    "\n",
    "Set the path of the remote computer to install the external scripts to. Needs to be a location available to the calculation nodes (e.g. not `/project/` on Piz-Daint). "
   ]
  },
  {
   "cell_type": "code",
   "execution_count": null,
   "metadata": {},
   "outputs": [],
   "source": [
    "def retrieve_hr_scripts(b): \n",
    "    # Global: Version number (hash) + File directory\n",
    "    global hr_version_id, hr_code_dir_path\n",
    "    \n",
    "    # Get version id from hash of HEAD\n",
    "    commit_hash = ! git ls-remote \"https://github.com/hifabian/HR-STM.git\"\n",
    "    hr_version_id = commit_hash[0][:7]\n",
    "    \n",
    "    code_dir_name = \"HR_STM_at_\"+hr_version_id\n",
    "    code_remote_path = hr_install_path_inp.value\n",
    "    hr_code_dir_path = code_remote_path+\"/\"+code_dir_name\n",
    "\n",
    "    computer = Computer.get(drop_computer.value)\n",
    "\n",
    "    with hr_retrieve_output:\n",
    "        clear_output()\n",
    "        \n",
    "        # ssh key needs to be set\n",
    "        ! ssh {computer.hostname} \"wget https://github.com/hifabian/HR-STM/archive/master.zip -O {code_remote_path}/{code_dir_name}.zip\"\n",
    "        ! ssh {computer.hostname} \"cd {code_remote_path} && unzip -o {code_dir_name}.zip && rm -rf {code_dir_name} {code_dir_name}.zip && mv HR-STM-master {code_dir_name}\"\n",
    "        ! ssh {computer.hostname} \"cd {code_remote_path}/{code_dir_name} && chmod u+x run.py\"\n",
    "\n",
    "hr_code_dir_path = None\n",
    "hr_version_id = None\n",
    "\n",
    "hr_retrieve_output = ipw.Output()\n",
    "\n",
    "hr_retrieve_button = ipw.Button(description=\"Retrieve scripts\")\n",
    "\n",
    "hr_retrieve_button.on_click(retrieve_hr_scripts)\n",
    "\n",
    "hr_install_path_inp = ipw.Text(description=\"Install path:\", value=\"/users/username/aiida-soft\", layout=layout, style=style)\n",
    "\n",
    "display(hr_install_path_inp, hr_retrieve_button, hr_retrieve_output)"
   ]
  },
  {
   "cell_type": "markdown",
   "metadata": {},
   "source": [
    "For the HR-STM codes, `python 3` instance with `mpi4py`  and `gcc >=7.0` is needed.\n",
    "\n",
    "Please provide the correct bash commands to make this available (this text will be prepended to each slurm script)."
   ]
  },
  {
   "cell_type": "code",
   "execution_count": null,
   "metadata": {},
   "outputs": [],
   "source": [
    "hrstm_prepend_text = ipw.Textarea(description=\"Prepend text:\",\n",
    "             layout = {'width': '70%'},\n",
    "             value =\n",
    "                \"module load gcc/7.1.0\\n\" +\n",
    "                \"module load cray-python/3.6.1.1\\n\"\n",
    "            )\n",
    "\n",
    "display(hrstm_prepend_text)"
   ]
  },
  {
   "cell_type": "code",
   "execution_count": null,
   "metadata": {},
   "outputs": [],
   "source": [
    "def setup_hrstm():\n",
    "    \n",
    "    # Python with MPI support\n",
    "    prepend_text  = \"### code prepend_text start ###\\n\"\n",
    "    prepend_text += hrstm_prepend_text.value\n",
    "    prepend_text += \"### code prepend_text end ###\\n\"\n",
    "\n",
    "    code_label = \"py_hrstm_\"+hr_version_id\n",
    "\n",
    "    code_full_name = code_label + \"@\" + drop_computer.value\n",
    "\n",
    "    try:\n",
    "        Code.get_from_string(code_full_name)\n",
    "    except (NotExistent, MultipleObjectsError):            \n",
    "        code = Code(remote_computer_exec=(Computer.get(drop_computer.value), hr_code_dir_path+\"/run.py\"))\n",
    "        code.label = code_label\n",
    "        code.description = \"Python code to calculate HR-STM\"\n",
    "        code.set_input_plugin_name(\"spm.hrstm\")\n",
    "        code.set_prepend_text(prepend_text)\n",
    "        code.set_append_text(\"\")\n",
    "        code.store()\n",
    "        ! verdi code show \"{code_full_name}\"\n",
    "    else:\n",
    "        print(\"Code '{}' already existent\".format(code_full_name))\n",
    "        \n",
    "def on_hrstm_setup_click(b):\n",
    "    with hrstm_setup_out:\n",
    "        clear_output()\n",
    "        setup_hrstm()\n",
    "    \n",
    "hrstm_setup_out = ipw.Output()\n",
    "\n",
    "hrstm_setup_btn = ipw.Button(description=\"Setup hrstm\")\n",
    "hrstm_setup_btn.on_click(on_hrstm_setup_click)\n",
    "\n",
    "display(hrstm_setup_btn, hrstm_setup_out)"
   ]
  },
  {
   "cell_type": "code",
   "execution_count": null,
   "metadata": {},
   "outputs": [],
   "source": []
  }
 ],
 "metadata": {
  "kernelspec": {
   "display_name": "Python 2",
   "language": "python",
   "name": "python2"
  },
  "language_info": {
   "codemirror_mode": {
    "name": "ipython",
    "version": 2
   },
   "file_extension": ".py",
   "mimetype": "text/x-python",
   "name": "python",
   "nbconvert_exporter": "python",
   "pygments_lexer": "ipython2",
   "version": "2.7.15rc1"
  }
 },
 "nbformat": 4,
 "nbformat_minor": 2
}
