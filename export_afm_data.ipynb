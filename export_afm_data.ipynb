{
 "cells": [
  {
   "cell_type": "code",
   "execution_count": null,
   "metadata": {},
   "outputs": [],
   "source": [
    "%aiida\n",
    "from aiida.orm import load_node"
   ]
  },
  {
   "cell_type": "code",
   "execution_count": null,
   "metadata": {},
   "outputs": [],
   "source": [
    "\n",
    "from aiida.orm.querybuilder import QueryBuilder\n",
    "\n",
    "from aiida.work.process import WorkCalculation\n",
    "from aiida_cp2k.calculations import Cp2kCalculation\n",
    "from aiida.orm.data.structure import StructureData\n",
    "from aiida.orm.data.parameter import ParameterData\n",
    "\n",
    "from aiida.orm import load_node \n",
    "\n",
    "import ipywidgets as ipw\n",
    "from IPython.display import display, clear_output, HTML\n",
    "import nglview\n",
    "import time\n",
    "import ase.io\n",
    "import ase.units as aseu\n",
    "from ase.data.colors import jmol_colors\n",
    "import urlparse\n",
    "import numpy as np\n",
    "import copy\n",
    "\n",
    "import re\n",
    "from collections import OrderedDict\n",
    "\n",
    "import matplotlib.pyplot as plt\n",
    "from pprint import pprint\n",
    "\n",
    "from tempfile import NamedTemporaryFile\n",
    "from base64 import b64encode\n",
    "\n",
    "import zipfile\n",
    "import io\n",
    "import StringIO\n"
   ]
  },
  {
   "cell_type": "code",
   "execution_count": null,
   "metadata": {},
   "outputs": [],
   "source": [
    "a = load_node(170364)"
   ]
  },
  {
   "cell_type": "code",
   "execution_count": null,
   "metadata": {},
   "outputs": [],
   "source": [
    "afm_calc = a.get_outputs()[-2]"
   ]
  },
  {
   "cell_type": "code",
   "execution_count": null,
   "metadata": {},
   "outputs": [],
   "source": [
    "a.get_inputs_dict()['structure'].get_ase()"
   ]
  },
  {
   "cell_type": "code",
   "execution_count": null,
   "metadata": {},
   "outputs": [],
   "source": [
    "def load_afm_pp_data(afm_pp_calc):\n",
    "    df_path = afm_pp_calc.out.retrieved.get_abs_path('df.npy')\n",
    "    df_vec_path = afm_pp_calc.out.retrieved.get_abs_path('df_vec.npy')\n",
    "    \n",
    "    df_data = np.load(df_path)\n",
    "    df_vec_data = np.load(df_vec_path)\n",
    "    \n",
    "    x_arr = df_vec_data[0, 0] + np.linspace(0.0, df_vec_data[1, 0], df_data.shape[2])\n",
    "    y_arr = df_vec_data[0, 1] + np.linspace(0.0, df_vec_data[2, 1], df_data.shape[1])\n",
    "\n",
    "    #x_grid, y_grid = np.meshgrid(x_arr, y_arr)\n",
    "    \n",
    "    return x_arr, y_arr, df_data"
   ]
  },
  {
   "cell_type": "code",
   "execution_count": null,
   "metadata": {},
   "outputs": [],
   "source": [
    "def load_all(workcalc):\n",
    "    \n",
    "    ase_atoms = workcalc.get_inputs_dict()['structure'].get_ase()\n",
    "    \n",
    "    if 'Au' not in list(ase_atoms.symbols):\n",
    "        print(\"No Au found, skipping\")\n",
    "        return None\n",
    "    \n",
    "    afm_pp_calc = workcalc.get_outputs()[-2]\n",
    "    afm_2pp_calc = workcalc.get_outputs()[-1]\n",
    "    \n",
    "    scan_start_z = workcalc.inp.afm_pp_params.dict.scanMin[2]\n",
    "    ampl = workcalc.inp.afm_pp_params.dict.Amplitude\n",
    "    dz = workcalc.inp.afm_pp_params.dict.scanStep[2]\n",
    "    h0 = scan_start_z + ampl/2.0\n",
    "    \n",
    "    x_arr, y_arr, df_data = load_afm_pp_data(afm_pp_calc)\n",
    "    # df_data[h][x][y]\n",
    "    \n",
    "    extent = [np.min(x_arr), np.max(x_arr), np.min(y_arr), np.max(y_arr)]\n",
    "    \n",
    "    h_arr = h0 + np.arange(df_data.shape[0])*dz\n",
    "    \n",
    "    # filter heights\n",
    "    h_min = 27.80\n",
    "    h_max = 28.90\n",
    "    \n",
    "    filt = np.logical_and(h_arr>=h_min, h_arr<=h_max)\n",
    "    \n",
    "    df_data = df_data[filt, :, :]\n",
    "    h_arr = h_arr[filt]\n",
    "    \n",
    "        \n",
    "    return df_data, h_arr, extent, ase_atoms\n"
   ]
  },
  {
   "cell_type": "code",
   "execution_count": null,
   "metadata": {},
   "outputs": [],
   "source": [
    "df_data, h_arr, extent, ase_atoms = load_all(load_node(121641))"
   ]
  },
  {
   "cell_type": "code",
   "execution_count": null,
   "metadata": {},
   "outputs": [],
   "source": [
    "h_arr"
   ]
  },
  {
   "cell_type": "code",
   "execution_count": null,
   "metadata": {},
   "outputs": [],
   "source": [
    "qb = QueryBuilder()\n",
    "qb.append(WorkCalculation, tag='wc', filters={\n",
    "    'attributes._process_label': 'AfmWorkChain',\n",
    "    'and':[\n",
    "        {'attributes': {'has_key': '_sealed'}},\n",
    "        {'attributes._sealed': {'==': True}}\n",
    "    ],\n",
    "    'and':[\n",
    "        {'extras': {'has_key': 'preprocess_version'}},\n",
    "        {'extras.preprocess_version': {'==': 1.02}},\n",
    "        {'extras.preprocess_successful': {'==': True}},\n",
    "    ]\n",
    "})\n",
    "qb.order_by({'wc': {'ctime': 'asc'}})\n",
    "afms_wcs = qb.all()\n",
    "len(afms_wcs)"
   ]
  },
  {
   "cell_type": "code",
   "execution_count": null,
   "metadata": {},
   "outputs": [],
   "source": [
    "zip_buffer = io.BytesIO()\n",
    "\n",
    "with zipfile.ZipFile(zip_buffer, \"w\", zipfile.ZIP_DEFLATED, False) as zip_file:\n",
    "    \n",
    "    for x in afms_wcs:\n",
    "        afms_wc = x[0]\n",
    "        print(afms_wc.pk)\n",
    "        \n",
    "        out = load_all(afms_wc)\n",
    "        if out is None:\n",
    "            continue\n",
    "        \n",
    "        df_data, h_arr, extent, ase_atoms = out\n",
    "        \n",
    "        txtdata = StringIO.StringIO()\n",
    "        ase_atoms.write(txtdata, format='xyz')\n",
    "        zip_file.writestr(\"%d.xyz\" % afms_wc.pk, txtdata.getvalue())\n",
    "\n",
    "        npzdata = StringIO.StringIO()\n",
    "\n",
    "        np.savez_compressed(npzdata, df_data=df_data, h_arr=h_arr, extent=extent)\n",
    "\n",
    "        zip_file.writestr(\"%d.npz\" % afms_wc.pk, npzdata.getvalue())\n",
    "    \n",
    "    \n",
    "    \n",
    "with open('test.zip', 'wb') as f:\n",
    "        f.write(zip_buffer.getvalue())"
   ]
  },
  {
   "cell_type": "markdown",
   "metadata": {},
   "source": [
    "# tests"
   ]
  },
  {
   "cell_type": "code",
   "execution_count": null,
   "metadata": {},
   "outputs": [],
   "source": [
    "wc = load_node(121641)"
   ]
  },
  {
   "cell_type": "code",
   "execution_count": null,
   "metadata": {},
   "outputs": [],
   "source": [
    "afm_calc = wc.get_outputs()[-2]"
   ]
  },
  {
   "cell_type": "code",
   "execution_count": null,
   "metadata": {},
   "outputs": [],
   "source": [
    "afm_calc.out.retrieved.get_folder_list()"
   ]
  },
  {
   "cell_type": "code",
   "execution_count": null,
   "metadata": {},
   "outputs": [],
   "source": [
    "wc.get_extras()"
   ]
  },
  {
   "cell_type": "code",
   "execution_count": null,
   "metadata": {},
   "outputs": [],
   "source": []
  }
 ],
 "metadata": {
  "kernelspec": {
   "display_name": "Python 2",
   "language": "python",
   "name": "python2"
  },
  "language_info": {
   "codemirror_mode": {
    "name": "ipython",
    "version": 2
   },
   "file_extension": ".py",
   "mimetype": "text/x-python",
   "name": "python",
   "nbconvert_exporter": "python",
   "pygments_lexer": "ipython2",
   "version": "2.7.17"
  }
 },
 "nbformat": 4,
 "nbformat_minor": 2
}
